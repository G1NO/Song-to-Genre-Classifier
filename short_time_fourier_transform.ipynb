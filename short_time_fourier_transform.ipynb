{
 "cells": [
  {
   "cell_type": "markdown",
   "metadata": {},
   "source": [
    "## Neural Network"
   ]
  },
  {
   "cell_type": "markdown",
   "metadata": {},
   "source": [
    "Our next step is to build a neural network. In order to do this, I need to turn each snippet into an array, so that it can be used to feed into the neural network. I'm going to use the glob module to iterate through all the WAV files from each genre folder, and turn them into a list. From this list, I will use a basic for loop to pass each file through a function that I wrote that takes a wav file, runs a stft (short-time fourier transform) on it, and spits it out into an array that I can use to build the neural net."
   ]
  },
  {
   "cell_type": "code",
   "execution_count": 1,
   "metadata": {
    "collapsed": false
   },
   "outputs": [
    {
     "name": "stdout",
     "output_type": "stream",
     "text": [
      "Collecting librosa\n",
      "  Downloading librosa-0.5.0.tar.gz (1.5MB)\n",
      "\u001b[K    100% |████████████████████████████████| 1.5MB 451kB/s eta 0:00:01\n",
      "\u001b[?25hCollecting audioread>=2.0.0 (from librosa)\n",
      "  Downloading audioread-2.1.4.tar.gz\n",
      "Requirement already satisfied: numpy>=1.8.0 in /opt/conda/envs/python2/lib/python2.7/site-packages (from librosa)\n",
      "Requirement already satisfied: scipy>=0.13.0 in /opt/conda/envs/python2/lib/python2.7/site-packages (from librosa)\n",
      "Requirement already satisfied: scikit-learn>=0.14.0 in /opt/conda/envs/python2/lib/python2.7/site-packages (from librosa)\n",
      "Collecting joblib>=0.7.0 (from librosa)\n",
      "  Downloading joblib-0.11-py2.py3-none-any.whl (176kB)\n",
      "\u001b[K    100% |████████████████████████████████| 184kB 3.4MB/s eta 0:00:01\n",
      "\u001b[?25hRequirement already satisfied: decorator>=3.0.0 in /opt/conda/envs/python2/lib/python2.7/site-packages (from librosa)\n",
      "Requirement already satisfied: six>=1.3 in /opt/conda/envs/python2/lib/python2.7/site-packages (from librosa)\n",
      "Collecting resampy>=0.1.2 (from librosa)\n",
      "  Downloading resampy-0.1.5.tar.gz (444kB)\n",
      "\u001b[K    100% |████████████████████████████████| 450kB 1.5MB/s eta 0:00:01\n",
      "\u001b[?25hRequirement already satisfied: Cython>=0.23 in /opt/conda/envs/python2/lib/python2.7/site-packages (from resampy>=0.1.2->librosa)\n",
      "Building wheels for collected packages: librosa, audioread, resampy\n",
      "  Running setup.py bdist_wheel for librosa ... \u001b[?25l-\b \bdone\n",
      "\u001b[?25h  Stored in directory: /home/jovyan/.cache/pip/wheels/73/c8/19/fb03300a8b94f1b4b91d1622df507d8ed5a71228042c616c18\n",
      "  Running setup.py bdist_wheel for audioread ... \u001b[?25l-\b \bdone\n",
      "\u001b[?25h  Stored in directory: /home/jovyan/.cache/pip/wheels/62/1b/49/0384c1e62978b50f516e813410d2d5f466a9a4fe520790f105\n",
      "  Running setup.py bdist_wheel for resampy ... \u001b[?25l-\b \b\\\b \b|\b \b/\b \b-\b \b\\\b \bdone\n",
      "\u001b[?25h  Stored in directory: /home/jovyan/.cache/pip/wheels/9f/3a/ee/ed64e3e789565e086c723a92c391fc1b15f1e9fa80d53345aa\n",
      "Successfully built librosa audioread resampy\n",
      "Installing collected packages: audioread, joblib, resampy, librosa\n",
      "Successfully installed audioread-2.1.4 joblib-0.11 librosa-0.5.0 resampy-0.1.5\n"
     ]
    }
   ],
   "source": [
    "! pip install librosa"
   ]
  },
  {
   "cell_type": "code",
   "execution_count": 2,
   "metadata": {
    "collapsed": false
   },
   "outputs": [],
   "source": [
    "import glob\n",
    "import os\n",
    "import librosa\n",
    "import numpy as np\n",
    "import matplotlib.pyplot as plt\n",
    "#import tensorflow as tf\n",
    "#import keras\n",
    "from matplotlib.pyplot import specgram\n",
    "%matplotlib inline"
   ]
  },
  {
   "cell_type": "markdown",
   "metadata": {},
   "source": [
    "#### This function will run a short-time fourier transform on a WAV file, which is what we have to do in order to prep for the neural net."
   ]
  },
  {
   "cell_type": "code",
   "execution_count": 3,
   "metadata": {
    "collapsed": true
   },
   "outputs": [],
   "source": [
    "def stft_array(file_name):\n",
    "    X, sample_rate = librosa.load(file_name)\n",
    "    stft = np.abs(librosa.stft(X))\n",
    "    return stft"
   ]
  },
  {
   "cell_type": "markdown",
   "metadata": {},
   "source": [
    "#### Turning each genre of snippets into a list using the glob module"
   ]
  },
  {
   "cell_type": "code",
   "execution_count": 43,
   "metadata": {
    "collapsed": false
   },
   "outputs": [
    {
     "name": "stdout",
     "output_type": "stream",
     "text": [
      "/home/jovyan/work\r\n"
     ]
    }
   ],
   "source": [
    "!pwd"
   ]
  },
  {
   "cell_type": "code",
   "execution_count": 44,
   "metadata": {
    "collapsed": false
   },
   "outputs": [
    {
     "name": "stdout",
     "output_type": "stream",
     "text": [
      "Neural+Network.ipynb  scipy_image  snippets\r\n"
     ]
    }
   ],
   "source": [
    "!ls"
   ]
  },
  {
   "cell_type": "code",
   "execution_count": 5,
   "metadata": {
    "collapsed": true
   },
   "outputs": [],
   "source": [
    "electronic_list = glob.glob('snippets/electronic_snippets/*.wav')"
   ]
  },
  {
   "cell_type": "code",
   "execution_count": 46,
   "metadata": {
    "collapsed": false
   },
   "outputs": [
    {
     "data": {
      "text/plain": [
       "['snippets/electronic_snippets/House Mix.21.wav',\n",
       " 'snippets/electronic_snippets/05 Duck Chase.31.wav',\n",
       " 'snippets/electronic_snippets/10 Group Four.73.wav',\n",
       " \"snippets/electronic_snippets/07 Day's End After dusk Mix.25.wav\",\n",
       " 'snippets/electronic_snippets/11 Drum.11.wav',\n",
       " 'snippets/electronic_snippets/Bittersweet Loving.3.wav',\n",
       " 'snippets/electronic_snippets/08 Outro.7.wav',\n",
       " 'snippets/electronic_snippets/02 Risingson.23.wav',\n",
       " 'snippets/electronic_snippets/03 Halo.29.wav',\n",
       " 'snippets/electronic_snippets/07 Man Next Door.25.wav',\n",
       " 'snippets/electronic_snippets/10 Group Four.59.wav',\n",
       " 'snippets/electronic_snippets/07 Blue Shift.11.wav',\n",
       " 'snippets/electronic_snippets/01 Techno Rave House.5.wav',\n",
       " 'snippets/electronic_snippets/09 Mezzanine.21.wav',\n",
       " 'snippets/electronic_snippets/07 Nosferatu Space Cadet Mix.3.wav',\n",
       " 'snippets/electronic_snippets/Funk Soul Brother.21.wav',\n",
       " 'snippets/electronic_snippets/12 Paradise Bird Theory Featuring Sunja Lee.9.wav',\n",
       " \"snippets/electronic_snippets/08 Star Guitar [Pete Heller's Expanded Mix].11.wav\",\n",
       " 'snippets/electronic_snippets/02 Stormy Cloud Raindrop Mix.29.wav',\n",
       " 'snippets/electronic_snippets/01 Future Proof.35.wav',\n",
       " 'snippets/electronic_snippets/08 Black Milk.63.wav',\n",
       " 'snippets/electronic_snippets/05 Dancing On My Grave.15.wav',\n",
       " 'snippets/electronic_snippets/Around The World.7.wav',\n",
       " 'snippets/electronic_snippets/01 Only The Strong Survive.5.wav',\n",
       " 'snippets/electronic_snippets/Around The World.25.wav',\n",
       " 'snippets/electronic_snippets/11 Bring Me Your Love.23.wav',\n",
       " 'snippets/electronic_snippets/08 Submerge.5.wav',\n",
       " \"snippets/electronic_snippets/The Music's Got Me.37.wav\",\n",
       " 'snippets/electronic_snippets/12 Duck Chase Double up Mix.1.wav',\n",
       " 'snippets/electronic_snippets/13 Mosa Remix.19.wav',\n",
       " 'snippets/electronic_snippets/04 Can I Get a Witness (Thievery Corporation Remix).7.wav',\n",
       " 'snippets/electronic_snippets/10 Bodywork.39.wav',\n",
       " 'snippets/electronic_snippets/09 Music Selector is the Soul Reflector.31.wav',\n",
       " 'snippets/electronic_snippets/04 Can I Get a Witness (Thievery Corporation Remix).25.wav',\n",
       " 'snippets/electronic_snippets/13 Mosa Remix.21.wav',\n",
       " 'snippets/electronic_snippets/01 Techno Rave House.27.wav',\n",
       " 'snippets/electronic_snippets/15 DMT Dance Music Trance.23.wav',\n",
       " 'snippets/electronic_snippets/11 Bring Me Your Love.19.wav',\n",
       " 'snippets/electronic_snippets/03 Vision Of Art.41.wav',\n",
       " 'snippets/electronic_snippets/06 Mad Flava.35.wav',\n",
       " 'snippets/electronic_snippets/Chemical Beats.43.wav',\n",
       " 'snippets/electronic_snippets/11 Shinjiro Harsh Mix.15.wav',\n",
       " 'snippets/electronic_snippets/11 Drum.3.wav',\n",
       " 'snippets/electronic_snippets/06 Mad Flava.27.wav',\n",
       " 'snippets/electronic_snippets/09 Something About Us.5.wav',\n",
       " 'snippets/electronic_snippets/Knightrider Theme.1.wav',\n",
       " 'snippets/electronic_snippets/08 Black Milk.39.wav',\n",
       " \"snippets/electronic_snippets/11 Whut'z Da Solution Featuring Kukoo Da Baga Bonez.13.wav\",\n",
       " 'snippets/electronic_snippets/04 Sonic Traveler Featuring Tunde Ayanyemi.9.wav',\n",
       " 'snippets/electronic_snippets/10 Bodywork.9.wav',\n",
       " 'snippets/electronic_snippets/10 Danger Of Love Gray Sky.49.wav',\n",
       " 'snippets/electronic_snippets/03 Danger Of Love Featuring Zap Mama.35.wav',\n",
       " 'snippets/electronic_snippets/04 Fill Me In Sunship Remix.19.wav',\n",
       " 'snippets/electronic_snippets/06 Mad Flava.7.wav',\n",
       " 'snippets/electronic_snippets/Hey Boy, Hey Girl.39.wav',\n",
       " \"snippets/electronic_snippets/05 Still Island Still'n'Slow Mix.7.wav\",\n",
       " 'snippets/electronic_snippets/10 Endless Railway Featuring Ahmir Questlove Thompson.45.wav',\n",
       " 'snippets/electronic_snippets/Around The World.33.wav',\n",
       " 'snippets/electronic_snippets/07 Blue Shift.23.wav',\n",
       " 'snippets/electronic_snippets/Funk Soul Brother.17.wav',\n",
       " 'snippets/electronic_snippets/13 Mosa Remix.1.wav',\n",
       " 'snippets/electronic_snippets/01 Angel.9.wav',\n",
       " \"snippets/electronic_snippets/05 Still Island Still'n'Slow Mix.15.wav\",\n",
       " 'snippets/electronic_snippets/02 Risingson.39.wav',\n",
       " 'snippets/electronic_snippets/Shiny Disco Balls.69.wav',\n",
       " 'snippets/electronic_snippets/10 Endless Railway Featuring Ahmir Questlove Thompson.33.wav',\n",
       " 'snippets/electronic_snippets/3-15 Bruce Lee MC.19.wav',\n",
       " 'snippets/electronic_snippets/09 Mezzanine.31.wav',\n",
       " 'snippets/electronic_snippets/03 Vision Of Art.29.wav',\n",
       " 'snippets/electronic_snippets/Groove Is In The Heart.5.wav',\n",
       " 'snippets/electronic_snippets/08 Outro.33.wav',\n",
       " 'snippets/electronic_snippets/12 Picnic in the Summertime.23.wav',\n",
       " 'snippets/electronic_snippets/House Mix.17.wav',\n",
       " 'snippets/electronic_snippets/01 Song 1.61.wav',\n",
       " 'snippets/electronic_snippets/09 Candle Chant (A Tribute) Featuring Boss The MC.51.wav',\n",
       " 'snippets/electronic_snippets/07 Nosferatu Space Cadet Mix.47.wav',\n",
       " 'snippets/electronic_snippets/06 Vision Of Art Featuring Company Flow.37.wav',\n",
       " 'snippets/electronic_snippets/13 Final Home.41.wav',\n",
       " \"snippets/electronic_snippets/05 Still Island Still'n'Slow Mix.37.wav\",\n",
       " 'snippets/electronic_snippets/01 Techno Rave House.9.wav',\n",
       " 'snippets/electronic_snippets/Shiny Disco Balls.13.wav',\n",
       " 'snippets/electronic_snippets/Say Ahhh.31.wav',\n",
       " 'snippets/electronic_snippets/01 Charming the Serpent.47.wav',\n",
       " 'snippets/electronic_snippets/04 Sonic Traveler Featuring Tunde Ayanyemi.35.wav',\n",
       " 'snippets/electronic_snippets/32 Setting Sun.49.wav',\n",
       " 'snippets/electronic_snippets/04  Harder, Faster, Better, Stronger.21.wav',\n",
       " 'snippets/electronic_snippets/09 Music Selector is the Soul Reflector.49.wav',\n",
       " 'snippets/electronic_snippets/04 Trihedron Stray Mix.39.wav',\n",
       " 'snippets/electronic_snippets/03 Teardrop.63.wav',\n",
       " \"snippets/electronic_snippets/12 Block Rockin' Beats.29.wav\",\n",
       " 'snippets/electronic_snippets/14 Beautiful Child A Deeper Love.9.wav',\n",
       " 'snippets/electronic_snippets/09 Duality.81.wav',\n",
       " 'snippets/electronic_snippets/10 Danger Of Love Gray Sky.45.wav',\n",
       " 'snippets/electronic_snippets/07 Blue Shift.33.wav',\n",
       " 'snippets/electronic_snippets/01 Song 1.9.wav',\n",
       " 'snippets/electronic_snippets/3-15 Bruce Lee MC.27.wav',\n",
       " 'snippets/electronic_snippets/06 Endless Railway.21.wav',\n",
       " 'snippets/electronic_snippets/08 Song For John Walker.55.wav',\n",
       " 'snippets/electronic_snippets/09 Mezzanine.45.wav',\n",
       " 'snippets/electronic_snippets/3-15 Bruce Lee MC.5.wav',\n",
       " \"snippets/electronic_snippets/08 With Grace Featuring N'Dea Davenport.23.wav\",\n",
       " 'snippets/electronic_snippets/03 Teardrop.1.wav',\n",
       " 'snippets/electronic_snippets/One More Time.63.wav',\n",
       " 'snippets/electronic_snippets/09 Duality.59.wav',\n",
       " 'snippets/electronic_snippets/04 Fill Me In Sunship Remix.37.wav',\n",
       " 'snippets/electronic_snippets/06 Mad Flava.31.wav',\n",
       " 'snippets/electronic_snippets/12 Paradise Bird Theory Featuring Sunja Lee.13.wav',\n",
       " 'snippets/electronic_snippets/One More Time.49.wav',\n",
       " 'snippets/electronic_snippets/06 Mad Flava.5.wav',\n",
       " 'snippets/electronic_snippets/09 Something About Us.27.wav',\n",
       " \"snippets/electronic_snippets/08 With Grace Featuring N'Dea Davenport.9.wav\",\n",
       " 'snippets/electronic_snippets/04 Can I Get a Witness (Thievery Corporation Remix).21.wav',\n",
       " 'snippets/electronic_snippets/08 Submerge.83.wav',\n",
       " \"snippets/electronic_snippets/12 Block Rockin' Beats.47.wav\",\n",
       " 'snippets/electronic_snippets/13 Final Home.13.wav',\n",
       " \"snippets/electronic_snippets/08 Star Guitar [Pete Heller's Expanded Mix].45.wav\",\n",
       " 'snippets/electronic_snippets/09 Candle Chant (A Tribute) Featuring Boss The MC.45.wav',\n",
       " 'snippets/electronic_snippets/05 Butterfly Caught.15.wav',\n",
       " 'snippets/electronic_snippets/Bittersweet Loving.9.wav',\n",
       " 'snippets/electronic_snippets/01 Only The Strong Survive.1.wav',\n",
       " 'snippets/electronic_snippets/Groove Is In The Heart.39.wav',\n",
       " 'snippets/electronic_snippets/10 Kemuri.35.wav',\n",
       " \"snippets/electronic_snippets/Let's Get High.9.wav\",\n",
       " 'snippets/electronic_snippets/One More Time.59.wav',\n",
       " 'snippets/electronic_snippets/01 Only The Strong Survive.7.wav',\n",
       " 'snippets/electronic_snippets/01 Song 1.29.wav',\n",
       " \"snippets/electronic_snippets/08 Star Guitar [Pete Heller's Expanded Mix].13.wav\",\n",
       " \"snippets/electronic_snippets/Let's Get High.47.wav\",\n",
       " 'snippets/electronic_snippets/15 Dance Music Trance.13.wav',\n",
       " 'snippets/electronic_snippets/11 Drum.53.wav',\n",
       " 'snippets/electronic_snippets/Knightrider Theme.3.wav',\n",
       " 'snippets/electronic_snippets/Little Fluffy Clouds 12 Mix.1.wav',\n",
       " 'snippets/electronic_snippets/Chemical Beats.45.wav',\n",
       " 'snippets/electronic_snippets/11 Drum.5.wav',\n",
       " 'snippets/electronic_snippets/32 Setting Sun.53.wav',\n",
       " 'snippets/electronic_snippets/11 Drum.43.wav',\n",
       " 'snippets/electronic_snippets/14 Beautiful Child A Deeper Love.11.wav',\n",
       " \"snippets/electronic_snippets/05 Still Island Still'n'Slow Mix.31.wav\",\n",
       " 'snippets/electronic_snippets/12 Paradise Bird Theory Featuring Sunja Lee.45.wav',\n",
       " 'snippets/electronic_snippets/River of Freedom.19.wav',\n",
       " 'snippets/electronic_snippets/09 Duality.73.wav',\n",
       " 'snippets/electronic_snippets/14 Party Happening People.41.wav',\n",
       " 'snippets/electronic_snippets/10 Club Soda.51.wav',\n",
       " 'snippets/electronic_snippets/03 Danger Of Love Featuring Zap Mama.51.wav',\n",
       " 'snippets/electronic_snippets/10 Danger Of Love Gray Sky.7.wav',\n",
       " 'snippets/electronic_snippets/Euro House Mix.5.wav',\n",
       " 'snippets/electronic_snippets/03 Halo.89.wav',\n",
       " 'snippets/electronic_snippets/One More Time.47.wav',\n",
       " 'snippets/electronic_snippets/08 Black Milk.65.wav',\n",
       " 'snippets/electronic_snippets/15 Dance Music Trance.35.wav',\n",
       " 'snippets/electronic_snippets/05 Butterfly Caught.71.wav',\n",
       " 'snippets/electronic_snippets/03 Digital Love.25.wav',\n",
       " 'snippets/electronic_snippets/Human After All.59.wav',\n",
       " 'snippets/electronic_snippets/09 Duality.47.wav',\n",
       " 'snippets/electronic_snippets/Say Ahhh.45.wav',\n",
       " 'snippets/electronic_snippets/10 Kemuri.9.wav',\n",
       " 'snippets/electronic_snippets/Technologic.51.wav',\n",
       " 'snippets/electronic_snippets/03 Vision Of Art.43.wav',\n",
       " 'snippets/electronic_snippets/08 Black Milk.37.wav',\n",
       " 'snippets/electronic_snippets/10 Group Four.89.wav',\n",
       " 'snippets/electronic_snippets/01 Techno Rave House.23.wav',\n",
       " 'snippets/electronic_snippets/10 Endless Railway Featuring Ahmir Questlove Thompson.5.wav',\n",
       " 'snippets/electronic_snippets/06 Endless Railway.45.wav',\n",
       " 'snippets/electronic_snippets/3-15 Bruce Lee MC.49.wav',\n",
       " 'snippets/electronic_snippets/03 Danger Of Love Featuring Zap Mama.43.wav',\n",
       " \"snippets/electronic_snippets/08 With Grace Featuring N'Dea Davenport.3.wav\",\n",
       " \"snippets/electronic_snippets/05 Still Island Still'n'Slow Mix.23.wav\",\n",
       " 'snippets/electronic_snippets/12 Duck Chase Double up Mix.37.wav',\n",
       " 'snippets/electronic_snippets/03 Digital Love.47.wav',\n",
       " 'snippets/electronic_snippets/Around The World.47.wav',\n",
       " 'snippets/electronic_snippets/01 Only The Strong Survive.19.wav',\n",
       " 'snippets/electronic_snippets/Groove Is In The Heart.3.wav',\n",
       " 'snippets/electronic_snippets/10 Group Four.7.wav',\n",
       " 'snippets/electronic_snippets/Shiny Disco Balls.49.wav',\n",
       " 'snippets/electronic_snippets/08 Black Milk.61.wav',\n",
       " 'snippets/electronic_snippets/01 Angel.13.wav',\n",
       " 'snippets/electronic_snippets/03 Danger Of Love Featuring Zap Mama.25.wav',\n",
       " 'snippets/electronic_snippets/09 Duality.75.wav',\n",
       " 'snippets/electronic_snippets/10 Club Soda.37.wav',\n",
       " 'snippets/electronic_snippets/Knightrider Theme.35.wav',\n",
       " 'snippets/electronic_snippets/10 Kemuri.11.wav',\n",
       " 'snippets/electronic_snippets/Euro House Mix.59.wav',\n",
       " 'snippets/electronic_snippets/01 Charming the Serpent.13.wav',\n",
       " 'snippets/electronic_snippets/02 Zen Approach Featuring Black Thought.39.wav',\n",
       " 'snippets/electronic_snippets/05 Duck Chase.19.wav',\n",
       " 'snippets/electronic_snippets/10 Kemuri.55.wav',\n",
       " 'snippets/electronic_snippets/08 Black Milk.7.wav',\n",
       " 'snippets/electronic_snippets/11 Bring Me Your Love.5.wav',\n",
       " 'snippets/electronic_snippets/15 Dance Music Trance.27.wav',\n",
       " 'snippets/electronic_snippets/Say Ahhh.17.wav',\n",
       " 'snippets/electronic_snippets/01 Charming the Serpent.5.wav',\n",
       " 'snippets/electronic_snippets/03 Danger Of Love Featuring Zap Mama.13.wav',\n",
       " 'snippets/electronic_snippets/Euro House Mix.15.wav',\n",
       " 'snippets/electronic_snippets/07 Blue Shift.3.wav',\n",
       " 'snippets/electronic_snippets/3-15 Bruce Lee MC.23.wav',\n",
       " 'snippets/electronic_snippets/14 Party Happening People.19.wav',\n",
       " 'snippets/electronic_snippets/09 Mezzanine.41.wav',\n",
       " 'snippets/electronic_snippets/17 Where Do I Begin.71.wav',\n",
       " \"snippets/electronic_snippets/Let's Get High.25.wav\",\n",
       " 'snippets/electronic_snippets/10 Endless Railway Featuring Ahmir Questlove Thompson.19.wav',\n",
       " 'snippets/electronic_snippets/04 Inertia Creeps.53.wav',\n",
       " 'snippets/electronic_snippets/04 Trihedron Stray Mix.57.wav',\n",
       " 'snippets/electronic_snippets/Say Ahhh.33.wav',\n",
       " 'snippets/electronic_snippets/12 Picnic in the Summertime.15.wav',\n",
       " 'snippets/electronic_snippets/Little Fluffy Clouds 12 Mix.69.wav',\n",
       " 'snippets/electronic_snippets/02 Stormy Cloud Raindrop Mix.15.wav',\n",
       " 'snippets/electronic_snippets/03 Digital Love.5.wav',\n",
       " 'snippets/electronic_snippets/08 Submerge.21.wav',\n",
       " 'snippets/electronic_snippets/04 Fill Me In Sunship Remix.1.wav',\n",
       " 'snippets/electronic_snippets/Human After All.47.wav',\n",
       " 'snippets/electronic_snippets/Chemical Beats.23.wav',\n",
       " 'snippets/electronic_snippets/Say Ahhh.23.wav',\n",
       " 'snippets/electronic_snippets/14 Party Happening People.9.wav',\n",
       " 'snippets/electronic_snippets/04 Inertia Creeps.61.wav',\n",
       " 'snippets/electronic_snippets/09 Duality.39.wav',\n",
       " 'snippets/electronic_snippets/08 Black Milk.33.wav',\n",
       " 'snippets/electronic_snippets/Little Fluffy Clouds 12 Mix.37.wav',\n",
       " 'snippets/electronic_snippets/08 Black Milk.67.wav',\n",
       " 'snippets/electronic_snippets/02 Stormy Cloud Raindrop Mix.7.wav',\n",
       " 'snippets/electronic_snippets/09 Candle Chant (A Tribute) Featuring Boss The MC.63.wav',\n",
       " 'snippets/electronic_snippets/Technologic.1.wav',\n",
       " 'snippets/electronic_snippets/One More Time.9.wav',\n",
       " 'snippets/electronic_snippets/One More Time.11.wav',\n",
       " 'snippets/electronic_snippets/07 Blue Shift.41.wav',\n",
       " 'snippets/electronic_snippets/01 Angel.65.wav',\n",
       " 'snippets/electronic_snippets/01 Only The Strong Survive.25.wav',\n",
       " 'snippets/electronic_snippets/06 Mad Flava.45.wav',\n",
       " 'snippets/electronic_snippets/04  Harder, Faster, Better, Stronger.9.wav',\n",
       " 'snippets/electronic_snippets/01 Techno Rave House.11.wav',\n",
       " 'snippets/electronic_snippets/12 Paradise Bird Theory Featuring Sunja Lee.63.wav',\n",
       " 'snippets/electronic_snippets/Shiny Disco Balls.19.wav',\n",
       " 'snippets/electronic_snippets/04 Trihedron Stray Mix.35.wav',\n",
       " 'snippets/electronic_snippets/Say Ahhh.15.wav',\n",
       " 'snippets/electronic_snippets/15 Dance Music Trance.19.wav',\n",
       " 'snippets/electronic_snippets/08 High Life.7.wav',\n",
       " 'snippets/electronic_snippets/05 Cloudbursting.29.wav',\n",
       " 'snippets/electronic_snippets/Chemical Beats.17.wav',\n",
       " \"snippets/electronic_snippets/07 Day's End Featuring Kazufumi Kodama.51.wav\",\n",
       " 'snippets/electronic_snippets/01 Charming the Serpent.33.wav',\n",
       " 'snippets/electronic_snippets/01 Angel.55.wav',\n",
       " 'snippets/electronic_snippets/01 Only The Strong Survive.41.wav',\n",
       " 'snippets/electronic_snippets/10 Group Four.11.wav',\n",
       " 'snippets/electronic_snippets/02 Aerodynamic.5.wav',\n",
       " \"snippets/electronic_snippets/07 Day's End Featuring Kazufumi Kodama.13.wav\",\n",
       " 'snippets/electronic_snippets/09 Mezzanine.23.wav',\n",
       " \"snippets/electronic_snippets/08 Star Guitar [Pete Heller's Expanded Mix].41.wav\",\n",
       " 'snippets/electronic_snippets/07 Blue Shift.9.wav',\n",
       " 'snippets/electronic_snippets/07 Nosferatu Space Cadet Mix.23.wav',\n",
       " 'snippets/electronic_snippets/Around The World.15.wav',\n",
       " 'snippets/electronic_snippets/A Alarm 2000.7.wav',\n",
       " 'snippets/electronic_snippets/06 Vision Of Art Featuring Company Flow.43.wav',\n",
       " 'snippets/electronic_snippets/13 Bypath Would You Take It.7.wav',\n",
       " 'snippets/electronic_snippets/12 Duck Chase Double up Mix.39.wav',\n",
       " 'snippets/electronic_snippets/River of Freedom.25.wav',\n",
       " 'snippets/electronic_snippets/12 Duck Chase Double up Mix.25.wav',\n",
       " 'snippets/electronic_snippets/15 DMT Dance Music Trance.45.wav',\n",
       " 'snippets/electronic_snippets/03 Danger Of Love Featuring Zap Mama.57.wav',\n",
       " 'snippets/electronic_snippets/03 Halo.33.wav',\n",
       " 'snippets/electronic_snippets/Little Fluffy Clouds 12 Mix.41.wav',\n",
       " \"snippets/electronic_snippets/12 Block Rockin' Beats.59.wav\",\n",
       " 'snippets/electronic_snippets/05 Final Home Piano Mix.13.wav',\n",
       " 'snippets/electronic_snippets/08 Outro.27.wav',\n",
       " 'snippets/electronic_snippets/05 Final Home Piano Mix.7.wav',\n",
       " 'snippets/electronic_snippets/10 Bodywork.59.wav',\n",
       " 'snippets/electronic_snippets/14 Party Happening People.3.wav',\n",
       " 'snippets/electronic_snippets/01 Charming the Serpent.9.wav',\n",
       " 'snippets/electronic_snippets/02 Stormy Cloud Raindrop Mix.35.wav',\n",
       " 'snippets/electronic_snippets/05 Cloudbursting.27.wav',\n",
       " 'snippets/electronic_snippets/08 High Life.35.wav',\n",
       " 'snippets/electronic_snippets/03 Elapse.19.wav',\n",
       " 'snippets/electronic_snippets/03 Elapse.23.wav',\n",
       " 'snippets/electronic_snippets/13 Final Home.43.wav',\n",
       " 'snippets/electronic_snippets/09 Candle Chant (A Tribute) Featuring Boss The MC.31.wav',\n",
       " 'snippets/electronic_snippets/08 Black Milk.43.wav',\n",
       " 'snippets/electronic_snippets/One More Time.55.wav',\n",
       " \"snippets/electronic_snippets/11 Whut'z Da Solution Featuring Kukoo Da Baga Bonez.45.wav\",\n",
       " 'snippets/electronic_snippets/04 Fill Me In Sunship Remix.35.wav',\n",
       " 'snippets/electronic_snippets/Shiny Disco Balls.51.wav',\n",
       " 'snippets/electronic_snippets/05 Duck Chase.11.wav',\n",
       " 'snippets/electronic_snippets/05 Dancing On My Grave.11.wav',\n",
       " 'snippets/electronic_snippets/01 Angel.15.wav',\n",
       " 'snippets/electronic_snippets/06 Endless Railway.5.wav',\n",
       " \"snippets/electronic_snippets/12 Block Rockin' Beats.43.wav\",\n",
       " 'snippets/electronic_snippets/04 Inertia Creeps.35.wav',\n",
       " \"snippets/electronic_snippets/07 Day's End Featuring Kazufumi Kodama.7.wav\",\n",
       " 'snippets/electronic_snippets/Technologic.27.wav',\n",
       " 'snippets/electronic_snippets/32 Setting Sun.61.wav',\n",
       " 'snippets/electronic_snippets/17 Where Do I Begin.47.wav',\n",
       " 'snippets/electronic_snippets/08 Submerge.17.wav',\n",
       " 'snippets/electronic_snippets/01 Call Me.21.wav',\n",
       " 'snippets/electronic_snippets/Shiny Disco Balls.17.wav',\n",
       " 'snippets/electronic_snippets/11 Exchange.43.wav',\n",
       " 'snippets/electronic_snippets/05 Duck Chase.39.wav',\n",
       " 'snippets/electronic_snippets/06 Dissolved Girl.63.wav',\n",
       " 'snippets/electronic_snippets/Little Fluffy Clouds 12 Mix.51.wav',\n",
       " 'snippets/electronic_snippets/10 Kemuri.53.wav',\n",
       " 'snippets/electronic_snippets/05 Cloudbursting.25.wav',\n",
       " 'snippets/electronic_snippets/03 Teardrop.33.wav',\n",
       " 'snippets/electronic_snippets/10 Bodywork.65.wav',\n",
       " 'snippets/electronic_snippets/09 Something About Us.1.wav',\n",
       " 'snippets/electronic_snippets/05 Butterfly Caught.39.wav',\n",
       " 'snippets/electronic_snippets/13 Apple Juice Kisses.11.wav',\n",
       " 'snippets/electronic_snippets/10 Group Four.79.wav',\n",
       " 'snippets/electronic_snippets/09 Music Selector is the Soul Reflector.45.wav',\n",
       " 'snippets/electronic_snippets/House Mix.83.wav',\n",
       " 'snippets/electronic_snippets/13 Mosa Remix.41.wav',\n",
       " 'snippets/electronic_snippets/09 Candle Chant (A Tribute) Featuring Boss The MC.61.wav',\n",
       " 'snippets/electronic_snippets/06 Endless Railway.7.wav',\n",
       " 'snippets/electronic_snippets/01 Future Proof.15.wav',\n",
       " \"snippets/electronic_snippets/07 Day's End Featuring Kazufumi Kodama.33.wav\",\n",
       " 'snippets/electronic_snippets/04 Trihedron Stray Mix.13.wav',\n",
       " 'snippets/electronic_snippets/09 Music Selector is the Soul Reflector.3.wav',\n",
       " 'snippets/electronic_snippets/09 Candle Chant (A Tribute) Featuring Boss The MC.57.wav',\n",
       " 'snippets/electronic_snippets/05 Butterfly Caught.13.wav',\n",
       " 'snippets/electronic_snippets/32 Setting Sun.31.wav',\n",
       " 'snippets/electronic_snippets/07 Blue Shift.55.wav',\n",
       " 'snippets/electronic_snippets/03 Teardrop.15.wav',\n",
       " 'snippets/electronic_snippets/10 Kemuri.31.wav',\n",
       " 'snippets/electronic_snippets/14 Beautiful Child A Deeper Love.17.wav',\n",
       " 'snippets/electronic_snippets/Technologic.5.wav',\n",
       " 'snippets/electronic_snippets/03 Halo.47.wav',\n",
       " 'snippets/electronic_snippets/13 Final Home.29.wav',\n",
       " 'snippets/electronic_snippets/Euro House Mix.3.wav',\n",
       " 'snippets/electronic_snippets/10 Club Soda.43.wav',\n",
       " 'snippets/electronic_snippets/08 Song For John Walker.35.wav',\n",
       " 'snippets/electronic_snippets/04 Inertia Creeps.39.wav',\n",
       " 'snippets/electronic_snippets/10 Danger Of Love Gray Sky.23.wav',\n",
       " 'snippets/electronic_snippets/01 Future Proof.5.wav',\n",
       " 'snippets/electronic_snippets/15 DMT Dance Music Trance.41.wav',\n",
       " \"snippets/electronic_snippets/08 Star Guitar [Pete Heller's Expanded Mix].39.wav\",\n",
       " 'snippets/electronic_snippets/03 Vision Of Art.35.wav',\n",
       " 'snippets/electronic_snippets/03 Digital Love.45.wav',\n",
       " 'snippets/electronic_snippets/01 Future Proof.9.wav',\n",
       " 'snippets/electronic_snippets/Human After All.45.wav',\n",
       " 'snippets/electronic_snippets/01 Techno Rave House.19.wav',\n",
       " \"snippets/electronic_snippets/07 Day's End Featuring Kazufumi Kodama.19.wav\",\n",
       " 'snippets/electronic_snippets/32 Setting Sun.5.wav',\n",
       " 'snippets/electronic_snippets/05 Dancing On My Grave.21.wav',\n",
       " 'snippets/electronic_snippets/02 Risingson.55.wav',\n",
       " 'snippets/electronic_snippets/04 Trihedron Stray Mix.15.wav',\n",
       " 'snippets/electronic_snippets/10 Endless Railway Featuring Ahmir Questlove Thompson.43.wav',\n",
       " 'snippets/electronic_snippets/10 Club Soda.29.wav',\n",
       " 'snippets/electronic_snippets/02 Zen Approach Featuring Black Thought.31.wav',\n",
       " 'snippets/electronic_snippets/01 Call Me.41.wav',\n",
       " 'snippets/electronic_snippets/Hard Core Rave.13.wav',\n",
       " 'snippets/electronic_snippets/17 Where Do I Begin.49.wav',\n",
       " \"snippets/electronic_snippets/12 Block Rockin' Beats.9.wav\",\n",
       " 'snippets/electronic_snippets/11 Exchange.11.wav',\n",
       " 'snippets/electronic_snippets/10 Danger Of Love Gray Sky.55.wav',\n",
       " 'snippets/electronic_snippets/15 DMT Dance Music Trance.51.wav',\n",
       " 'snippets/electronic_snippets/06 Endless Railway.9.wav',\n",
       " 'snippets/electronic_snippets/01 Angel.43.wav',\n",
       " 'snippets/electronic_snippets/10 Group Four.39.wav',\n",
       " 'snippets/electronic_snippets/05 Butterfly Caught.69.wav',\n",
       " 'snippets/electronic_snippets/08 Submerge.39.wav',\n",
       " 'snippets/electronic_snippets/House Mix.59.wav',\n",
       " 'snippets/electronic_snippets/04 Sonic Traveler Featuring Tunde Ayanyemi.39.wav',\n",
       " 'snippets/electronic_snippets/09 Candle Chant (A Tribute) Featuring Boss The MC.27.wav',\n",
       " 'snippets/electronic_snippets/01 Future Proof.55.wav',\n",
       " 'snippets/electronic_snippets/3-15 Bruce Lee MC.3.wav',\n",
       " 'snippets/electronic_snippets/12 Duck Chase Double up Mix.53.wav',\n",
       " 'snippets/electronic_snippets/03 Vision Of Art.39.wav',\n",
       " \"snippets/electronic_snippets/08 Star Guitar [Pete Heller's Expanded Mix].60.wav\",\n",
       " 'snippets/electronic_snippets/03 Teardrop.49.wav',\n",
       " 'snippets/electronic_snippets/03 Danger Of Love Featuring Zap Mama.9.wav',\n",
       " 'snippets/electronic_snippets/03 Elapse.45.wav',\n",
       " 'snippets/electronic_snippets/08 Song For John Walker.45.wav',\n",
       " 'snippets/electronic_snippets/09 Meiso.41.wav',\n",
       " 'snippets/electronic_snippets/09 Music Selector is the Soul Reflector.37.wav',\n",
       " 'snippets/electronic_snippets/11 Drum.21.wav',\n",
       " 'snippets/electronic_snippets/3-15 Bruce Lee MC.45.wav',\n",
       " 'snippets/electronic_snippets/07 Blue Shift.37.wav',\n",
       " 'snippets/electronic_snippets/10 Club Soda.21.wav',\n",
       " \"snippets/electronic_snippets/11 Whut'z Da Solution Featuring Kukoo Da Baga Bonez.35.wav\",\n",
       " 'snippets/electronic_snippets/11 Drum.57.wav',\n",
       " 'snippets/electronic_snippets/Euro House Mix.57.wav',\n",
       " 'snippets/electronic_snippets/One More Time.65.wav',\n",
       " \"snippets/electronic_snippets/The Music's Got Me.53.wav\",\n",
       " 'snippets/electronic_snippets/Shiny Disco Balls.61.wav',\n",
       " 'snippets/electronic_snippets/01 Future Proof.59.wav',\n",
       " 'snippets/electronic_snippets/04 Sonic Traveler Featuring Tunde Ayanyemi.17.wav',\n",
       " \"snippets/electronic_snippets/08 With Grace Featuring N'Dea Davenport.43.wav\",\n",
       " 'snippets/electronic_snippets/15 Dance Music Trance.5.wav',\n",
       " 'snippets/electronic_snippets/09 Duality.25.wav',\n",
       " 'snippets/electronic_snippets/Bittersweet Loving.5.wav',\n",
       " 'snippets/electronic_snippets/05 Butterfly Caught.23.wav',\n",
       " 'snippets/electronic_snippets/05 Butterfly Caught.43.wav',\n",
       " 'snippets/electronic_snippets/03 Elapse.25.wav',\n",
       " \"snippets/electronic_snippets/Let's Get High.35.wav\",\n",
       " 'snippets/electronic_snippets/Little Fluffy Clouds 12 Mix.9.wav',\n",
       " 'snippets/electronic_snippets/05 Final Home Piano Mix.45.wav',\n",
       " 'snippets/electronic_snippets/03 Halo.15.wav',\n",
       " 'snippets/electronic_snippets/01 Call Me.43.wav',\n",
       " 'snippets/electronic_snippets/A Alarm 2000.3.wav',\n",
       " 'snippets/electronic_snippets/10 Club Soda.13.wav',\n",
       " 'snippets/electronic_snippets/05 Cloudbursting.7.wav',\n",
       " 'snippets/electronic_snippets/10 Club Soda.27.wav',\n",
       " 'snippets/electronic_snippets/32 Setting Sun.11.wav',\n",
       " 'snippets/electronic_snippets/02 Zen Approach Featuring Black Thought.23.wav',\n",
       " 'snippets/electronic_snippets/07 Blue Shift.67.wav',\n",
       " 'snippets/electronic_snippets/13 Mosa Remix.29.wav',\n",
       " 'snippets/electronic_snippets/07 Nosferatu Space Cadet Mix.11.wav',\n",
       " 'snippets/electronic_snippets/One More Time.1.wav',\n",
       " 'snippets/electronic_snippets/Human After All.41.wav',\n",
       " 'snippets/electronic_snippets/Say Ahhh.41.wav',\n",
       " 'snippets/electronic_snippets/07 Nosferatu Space Cadet Mix.49.wav',\n",
       " 'snippets/electronic_snippets/10 Endless Railway Featuring Ahmir Questlove Thompson.35.wav',\n",
       " 'snippets/electronic_snippets/Bittersweet Loving.29.wav',\n",
       " 'snippets/electronic_snippets/Yoga.3.wav',\n",
       " 'snippets/electronic_snippets/11 Bring Me Your Love.27.wav',\n",
       " 'snippets/electronic_snippets/Funk Soul Brother.43.wav',\n",
       " 'snippets/electronic_snippets/10 Group Four.19.wav',\n",
       " 'snippets/electronic_snippets/07 Nosferatu Space Cadet Mix.31.wav',\n",
       " 'snippets/electronic_snippets/Technologic.29.wav',\n",
       " 'snippets/electronic_snippets/01 Angel.17.wav',\n",
       " 'snippets/electronic_snippets/House Mix.55.wav',\n",
       " 'snippets/electronic_snippets/12 Duck Chase Double up Mix.51.wav',\n",
       " 'snippets/electronic_snippets/12 Duck Chase Double up Mix.13.wav',\n",
       " 'snippets/electronic_snippets/09 Duality.77.wav',\n",
       " 'snippets/electronic_snippets/Knightrider Theme.23.wav',\n",
       " 'snippets/electronic_snippets/10 Endless Railway Featuring Ahmir Questlove Thompson.69.wav',\n",
       " 'snippets/electronic_snippets/11 Exchange.33.wav',\n",
       " 'snippets/electronic_snippets/06 Dissolved Girl.19.wav',\n",
       " 'snippets/electronic_snippets/13 Apple Juice Kisses.7.wav',\n",
       " 'snippets/electronic_snippets/One More Time.31.wav',\n",
       " 'snippets/electronic_snippets/11 Bring Me Your Love.15.wav',\n",
       " \"snippets/electronic_snippets/The Music's Got Me.39.wav\",\n",
       " 'snippets/electronic_snippets/15 DMT Dance Music Trance.43.wav',\n",
       " 'snippets/electronic_snippets/05 Cloudbursting.61.wav',\n",
       " 'snippets/electronic_snippets/Chemical Beats.1.wav',\n",
       " 'snippets/electronic_snippets/13 Apple Juice Kisses.15.wav',\n",
       " 'snippets/electronic_snippets/07 Man Next Door.51.wav',\n",
       " 'snippets/electronic_snippets/05 Final Home Piano Mix.15.wav',\n",
       " 'snippets/electronic_snippets/06 Vision Of Art Featuring Company Flow.17.wav',\n",
       " 'snippets/electronic_snippets/03 Elapse.7.wav',\n",
       " 'snippets/electronic_snippets/07 Nosferatu Space Cadet Mix.19.wav',\n",
       " 'snippets/electronic_snippets/3-15 Bruce Lee MC.39.wav',\n",
       " 'snippets/electronic_snippets/02 Zen Approach Featuring Black Thought.3.wav',\n",
       " 'snippets/electronic_snippets/03 Halo.21.wav',\n",
       " 'snippets/electronic_snippets/14 Party Happening People.27.wav',\n",
       " 'snippets/electronic_snippets/10 Bodywork.51.wav',\n",
       " 'snippets/electronic_snippets/09 Music Selector is the Soul Reflector.29.wav',\n",
       " 'snippets/electronic_snippets/09 Candle Chant (A Tribute) Featuring Boss The MC.53.wav',\n",
       " 'snippets/electronic_snippets/15 DMT Dance Music Trance.35.wav',\n",
       " \"snippets/electronic_snippets/07 Day's End Featuring Kazufumi Kodama.5.wav\",\n",
       " 'snippets/electronic_snippets/09 Mezzanine.59.wav',\n",
       " 'snippets/electronic_snippets/10 Endless Railway Featuring Ahmir Questlove Thompson.17.wav',\n",
       " 'snippets/electronic_snippets/13 Final Home.19.wav',\n",
       " 'snippets/electronic_snippets/04  Harder, Faster, Better, Stronger.19.wav',\n",
       " 'snippets/electronic_snippets/10 Kemuri.21.wav',\n",
       " 'snippets/electronic_snippets/13 Final Home.7.wav',\n",
       " 'snippets/electronic_snippets/Around The World.17.wav',\n",
       " 'snippets/electronic_snippets/08 Submerge.49.wav',\n",
       " 'snippets/electronic_snippets/09 Meiso.23.wav',\n",
       " 'snippets/electronic_snippets/05 Butterfly Caught.21.wav',\n",
       " 'snippets/electronic_snippets/Knightrider Theme.9.wav',\n",
       " 'snippets/electronic_snippets/09 Meiso.9.wav',\n",
       " 'snippets/electronic_snippets/05 Somebody.7.wav',\n",
       " 'snippets/electronic_snippets/Chemical Beats.27.wav',\n",
       " 'snippets/electronic_snippets/06 Mad Flava.25.wav',\n",
       " 'snippets/electronic_snippets/02 Zen Approach Featuring Black Thought.21.wav',\n",
       " 'snippets/electronic_snippets/05 Somebody.5.wav',\n",
       " 'snippets/electronic_snippets/08 Black Milk.57.wav',\n",
       " 'snippets/electronic_snippets/13 Mosa Remix.13.wav',\n",
       " 'snippets/electronic_snippets/Hey Boy, Hey Girl.7.wav',\n",
       " 'snippets/electronic_snippets/09 Something About Us.25.wav',\n",
       " 'snippets/electronic_snippets/01 Techno Rave House.1.wav',\n",
       " \"snippets/electronic_snippets/07 Day's End After dusk Mix.3.wav\",\n",
       " 'snippets/electronic_snippets/02 Stormy Cloud Raindrop Mix.31.wav',\n",
       " 'snippets/electronic_snippets/01 Charming the Serpent.7.wav',\n",
       " 'snippets/electronic_snippets/01 Future Proof.31.wav',\n",
       " 'snippets/electronic_snippets/06 Mad Flava.33.wav',\n",
       " 'snippets/electronic_snippets/10 Group Four.25.wav',\n",
       " \"snippets/electronic_snippets/07 Day's End Featuring Kazufumi Kodama.3.wav\",\n",
       " 'snippets/electronic_snippets/08 Song For John Walker.57.wav',\n",
       " \"snippets/electronic_snippets/The Music's Got Me.27.wav\",\n",
       " 'snippets/electronic_snippets/12 Picnic in the Summertime.9.wav',\n",
       " 'snippets/electronic_snippets/08 Song For John Walker.61.wav',\n",
       " 'snippets/electronic_snippets/Bittersweet Loving.41.wav',\n",
       " 'snippets/electronic_snippets/03 Danger Of Love Featuring Zap Mama.19.wav',\n",
       " 'snippets/electronic_snippets/11 Shinjiro Harsh Mix.39.wav',\n",
       " 'snippets/electronic_snippets/Little Fluffy Clouds 12 Mix.25.wav',\n",
       " 'snippets/electronic_snippets/09 Music Selector is the Soul Reflector.35.wav',\n",
       " 'snippets/electronic_snippets/07 Man Next Door.21.wav',\n",
       " 'snippets/electronic_snippets/04 Sonic Traveler Featuring Tunde Ayanyemi.37.wav',\n",
       " 'snippets/electronic_snippets/10 Endless Railway Featuring Ahmir Questlove Thompson.61.wav',\n",
       " 'snippets/electronic_snippets/13 Final Home.21.wav',\n",
       " 'snippets/electronic_snippets/09 Duality.23.wav',\n",
       " 'snippets/electronic_snippets/09 Mezzanine.5.wav',\n",
       " 'snippets/electronic_snippets/12 Duck Chase Double up Mix.43.wav',\n",
       " 'snippets/electronic_snippets/Shiny Disco Balls.45.wav',\n",
       " 'snippets/electronic_snippets/03 Digital Love.19.wav',\n",
       " 'snippets/electronic_snippets/13 Bypath Would You Take It.9.wav',\n",
       " 'snippets/electronic_snippets/07 Nosferatu Space Cadet Mix.1.wav',\n",
       " \"snippets/electronic_snippets/08 Star Guitar [Pete Heller's Expanded Mix].35.wav\",\n",
       " 'snippets/electronic_snippets/10 Endless Railway Featuring Ahmir Questlove Thompson.13.wav',\n",
       " 'snippets/electronic_snippets/03 Halo.45.wav',\n",
       " 'snippets/electronic_snippets/Human After All.57.wav',\n",
       " 'snippets/electronic_snippets/3-15 Bruce Lee MC.9.wav',\n",
       " 'snippets/electronic_snippets/09 Mezzanine.47.wav',\n",
       " 'snippets/electronic_snippets/04  Harder, Faster, Better, Stronger.17.wav',\n",
       " 'snippets/electronic_snippets/10 Group Four.77.wav',\n",
       " 'snippets/electronic_snippets/River of Freedom.17.wav',\n",
       " 'snippets/electronic_snippets/07 Nosferatu Space Cadet Mix.33.wav',\n",
       " \"snippets/electronic_snippets/05 Still Island Still'n'Slow Mix.33.wav\",\n",
       " 'snippets/electronic_snippets/03 Danger Of Love Featuring Zap Mama.45.wav',\n",
       " 'snippets/electronic_snippets/32 Setting Sun.57.wav',\n",
       " 'snippets/electronic_snippets/Hey Boy, Hey Girl.29.wav',\n",
       " \"snippets/electronic_snippets/12 Block Rockin' Beats.15.wav\",\n",
       " 'snippets/electronic_snippets/01 Angel.1.wav',\n",
       " 'snippets/electronic_snippets/05 Dancing On My Grave.7.wav',\n",
       " 'snippets/electronic_snippets/05 Butterfly Caught.51.wav',\n",
       " \"snippets/electronic_snippets/08 Star Guitar [Pete Heller's Expanded Mix].25.wav\",\n",
       " 'snippets/electronic_snippets/Human After All.43.wav',\n",
       " 'snippets/electronic_snippets/13 Apple Juice Kisses.13.wav',\n",
       " 'snippets/electronic_snippets/32 Setting Sun.25.wav',\n",
       " 'snippets/electronic_snippets/08 Outro.15.wav',\n",
       " \"snippets/electronic_snippets/08 With Grace Featuring N'Dea Davenport.31.wav\",\n",
       " 'snippets/electronic_snippets/05 Cloudbursting.63.wav',\n",
       " 'snippets/electronic_snippets/06 Vision Of Art Featuring Company Flow.47.wav',\n",
       " 'snippets/electronic_snippets/10 Endless Railway Featuring Ahmir Questlove Thompson.63.wav',\n",
       " 'snippets/electronic_snippets/09 Mezzanine.25.wav',\n",
       " \"snippets/electronic_snippets/08 With Grace Featuring N'Dea Davenport.25.wav\",\n",
       " \"snippets/electronic_snippets/Let's Get High.17.wav\",\n",
       " 'snippets/electronic_snippets/04 Trihedron Stray Mix.21.wav',\n",
       " 'snippets/electronic_snippets/17 Where Do I Begin.9.wav',\n",
       " 'snippets/electronic_snippets/02 Aerodynamic.21.wav',\n",
       " 'snippets/electronic_snippets/10 Club Soda.17.wav',\n",
       " 'snippets/electronic_snippets/05 Dancing On My Grave.9.wav',\n",
       " \"snippets/electronic_snippets/12 Block Rockin' Beats.3.wav\",\n",
       " 'snippets/electronic_snippets/04 Sonic Traveler Featuring Tunde Ayanyemi.57.wav',\n",
       " 'snippets/electronic_snippets/03 Teardrop.55.wav',\n",
       " \"snippets/electronic_snippets/11 Whut'z Da Solution Featuring Kukoo Da Baga Bonez.17.wav\",\n",
       " 'snippets/electronic_snippets/04 Inertia Creeps.27.wav',\n",
       " 'snippets/electronic_snippets/05 Duck Chase.35.wav',\n",
       " 'snippets/electronic_snippets/09 Music Selector is the Soul Reflector.19.wav',\n",
       " 'snippets/electronic_snippets/Little Fluffy Clouds 12 Mix.63.wav',\n",
       " 'snippets/electronic_snippets/03 Elapse.13.wav',\n",
       " 'snippets/electronic_snippets/07 Man Next Door.33.wav',\n",
       " \"snippets/electronic_snippets/11 Whut'z Da Solution Featuring Kukoo Da Baga Bonez.3.wav\",\n",
       " 'snippets/electronic_snippets/Human After All.63.wav',\n",
       " 'snippets/electronic_snippets/10 Kemuri.25.wav',\n",
       " 'snippets/electronic_snippets/08 Outro.5.wav',\n",
       " 'snippets/electronic_snippets/04 Trihedron Stray Mix.65.wav',\n",
       " 'snippets/electronic_snippets/05 Butterfly Caught.53.wav',\n",
       " 'snippets/electronic_snippets/Hard Core Rave.11.wav',\n",
       " \"snippets/electronic_snippets/07 Day's End Featuring Kazufumi Kodama.37.wav\",\n",
       " 'snippets/electronic_snippets/01 Song 1.17.wav',\n",
       " 'snippets/electronic_snippets/10 Group Four.81.wav',\n",
       " 'snippets/electronic_snippets/07 Blue Shift.53.wav',\n",
       " 'snippets/electronic_snippets/09 Candle Chant (A Tribute) Featuring Boss The MC.55.wav',\n",
       " 'snippets/electronic_snippets/10 Kemuri.57.wav',\n",
       " 'snippets/electronic_snippets/07 Blue Shift.29.wav',\n",
       " 'snippets/electronic_snippets/07 Blue Shift.17.wav',\n",
       " 'snippets/electronic_snippets/10 Bodywork.49.wav',\n",
       " 'snippets/electronic_snippets/3-15 Bruce Lee MC.51.wav',\n",
       " 'snippets/electronic_snippets/06 Mad Flava.47.wav',\n",
       " 'snippets/electronic_snippets/One More Time.35.wav',\n",
       " 'snippets/electronic_snippets/House Mix.29.wav',\n",
       " 'snippets/electronic_snippets/01 Angel.11.wav',\n",
       " 'snippets/electronic_snippets/14 Beautiful Child A Deeper Love.15.wav',\n",
       " 'snippets/electronic_snippets/10 Group Four.35.wav',\n",
       " 'snippets/electronic_snippets/House Mix.77.wav',\n",
       " 'snippets/electronic_snippets/09 Mezzanine.9.wav',\n",
       " 'snippets/electronic_snippets/03 Danger Of Love Featuring Zap Mama.29.wav',\n",
       " 'snippets/electronic_snippets/10 Danger Of Love Gray Sky.21.wav',\n",
       " \"snippets/electronic_snippets/Let's Get High.53.wav\",\n",
       " 'snippets/electronic_snippets/Euro House Mix.11.wav',\n",
       " 'snippets/electronic_snippets/04 Fill Me In Sunship Remix.11.wav',\n",
       " 'snippets/electronic_snippets/02 Risingson.19.wav',\n",
       " 'snippets/electronic_snippets/10 Kemuri.51.wav',\n",
       " 'snippets/electronic_snippets/11 Drum.27.wav',\n",
       " 'snippets/electronic_snippets/Groove Is In The Heart.43.wav',\n",
       " 'snippets/electronic_snippets/13 Bypath Would You Take It.29.wav',\n",
       " 'snippets/electronic_snippets/04 Can I Get a Witness (Thievery Corporation Remix).37.wav',\n",
       " 'snippets/electronic_snippets/04 Inertia Creeps.43.wav',\n",
       " 'snippets/electronic_snippets/Technologic.53.wav',\n",
       " 'snippets/electronic_snippets/13 Bypath Would You Take It.19.wav',\n",
       " 'snippets/electronic_snippets/10 Group Four.75.wav',\n",
       " \"snippets/electronic_snippets/07 Day's End After dusk Mix.41.wav\",\n",
       " 'snippets/electronic_snippets/10 Group Four.3.wav',\n",
       " 'snippets/electronic_snippets/03 Digital Love.37.wav',\n",
       " 'snippets/electronic_snippets/07 Man Next Door.39.wav',\n",
       " 'snippets/electronic_snippets/10 Endless Railway Featuring Ahmir Questlove Thompson.55.wav',\n",
       " 'snippets/electronic_snippets/09 Candle Chant (A Tribute) Featuring Boss The MC.11.wav',\n",
       " 'snippets/electronic_snippets/09 Duality.5.wav',\n",
       " 'snippets/electronic_snippets/09 Something About Us.29.wav',\n",
       " 'snippets/electronic_snippets/07 Man Next Door.9.wav',\n",
       " 'snippets/electronic_snippets/12 Paradise Bird Theory Featuring Sunja Lee.23.wav',\n",
       " \"snippets/electronic_snippets/08 With Grace Featuring N'Dea Davenport.33.wav\",\n",
       " 'snippets/electronic_snippets/02 Zen Approach Featuring Black Thought.25.wav',\n",
       " 'snippets/electronic_snippets/15 Dance Music Trance.1.wav',\n",
       " 'snippets/electronic_snippets/03 Halo.55.wav',\n",
       " 'snippets/electronic_snippets/11 Bring Me Your Love.33.wav',\n",
       " 'snippets/electronic_snippets/08 Song For John Walker.53.wav',\n",
       " \"snippets/electronic_snippets/08 Star Guitar [Pete Heller's Expanded Mix].31.wav\",\n",
       " 'snippets/electronic_snippets/09 Duality.79.wav',\n",
       " 'snippets/electronic_snippets/One More Time.13.wav',\n",
       " \"snippets/electronic_snippets/11 Whut'z Da Solution Featuring Kukoo Da Baga Bonez.33.wav\",\n",
       " 'snippets/electronic_snippets/15 DMT Dance Music Trance.37.wav',\n",
       " 'snippets/electronic_snippets/03 Digital Love.33.wav',\n",
       " 'snippets/electronic_snippets/05 Dancing On My Grave.17.wav',\n",
       " 'snippets/electronic_snippets/03 Danger Of Love Featuring Zap Mama.41.wav',\n",
       " 'snippets/electronic_snippets/12 Paradise Bird Theory Featuring Sunja Lee.61.wav',\n",
       " 'snippets/electronic_snippets/08 High Life.3.wav',\n",
       " 'snippets/electronic_snippets/04  Harder, Faster, Better, Stronger.11.wav',\n",
       " 'snippets/electronic_snippets/09 Something About Us.41.wav',\n",
       " 'snippets/electronic_snippets/11 Shinjiro Harsh Mix.51.wav',\n",
       " 'snippets/electronic_snippets/14 Party Happening People.21.wav',\n",
       " 'snippets/electronic_snippets/07 Blue Shift.25.wav',\n",
       " 'snippets/electronic_snippets/08 High Life.29.wav',\n",
       " 'snippets/electronic_snippets/River of Freedom.43.wav',\n",
       " 'snippets/electronic_snippets/01 Techno Rave House.3.wav',\n",
       " 'snippets/electronic_snippets/13 Mosa Remix.25.wav',\n",
       " 'snippets/electronic_snippets/09 Candle Chant (A Tribute) Featuring Boss The MC.41.wav',\n",
       " 'snippets/electronic_snippets/04 Can I Get a Witness (Thievery Corporation Remix).3.wav',\n",
       " 'snippets/electronic_snippets/05 Final Home Piano Mix.43.wav',\n",
       " 'snippets/electronic_snippets/Human After All.65.wav',\n",
       " 'snippets/electronic_snippets/05 Butterfly Caught.75.wav',\n",
       " 'snippets/electronic_snippets/08 Black Milk.23.wav',\n",
       " 'snippets/electronic_snippets/05 Dancing On My Grave.5.wav',\n",
       " 'snippets/electronic_snippets/One More Time.7.wav',\n",
       " 'snippets/electronic_snippets/02 Risingson.41.wav',\n",
       " 'snippets/electronic_snippets/08 Song For John Walker.11.wav',\n",
       " 'snippets/electronic_snippets/Technologic.43.wav',\n",
       " 'snippets/electronic_snippets/11 Shinjiro Harsh Mix.5.wav',\n",
       " \"snippets/electronic_snippets/08 With Grace Featuring N'Dea Davenport.69.wav\",\n",
       " 'snippets/electronic_snippets/02 Risingson.25.wav',\n",
       " 'snippets/electronic_snippets/09 Something About Us.23.wav',\n",
       " 'snippets/electronic_snippets/01 Charming the Serpent.17.wav',\n",
       " 'snippets/electronic_snippets/10 Kemuri.13.wav',\n",
       " 'snippets/electronic_snippets/05 Dancing On My Grave.25.wav',\n",
       " 'snippets/electronic_snippets/01 Future Proof.11.wav',\n",
       " 'snippets/electronic_snippets/10 Group Four.55.wav',\n",
       " 'snippets/electronic_snippets/12 Paradise Bird Theory Featuring Sunja Lee.21.wav',\n",
       " \"snippets/electronic_snippets/11 Whut'z Da Solution Featuring Kukoo Da Baga Bonez.41.wav\",\n",
       " 'snippets/electronic_snippets/07 Man Next Door.43.wav',\n",
       " 'snippets/electronic_snippets/07 Man Next Door.23.wav',\n",
       " 'snippets/electronic_snippets/05 Butterfly Caught.57.wav',\n",
       " 'snippets/electronic_snippets/04 Trihedron Stray Mix.5.wav',\n",
       " 'snippets/electronic_snippets/3-15 Bruce Lee MC.47.wav',\n",
       " 'snippets/electronic_snippets/09 Duality.71.wav',\n",
       " 'snippets/electronic_snippets/04  Harder, Faster, Better, Stronger.29.wav',\n",
       " 'snippets/electronic_snippets/05 Somebody.39.wav',\n",
       " \"snippets/electronic_snippets/The Music's Got Me.5.wav\",\n",
       " 'snippets/electronic_snippets/05 Final Home Piano Mix.19.wav',\n",
       " \"snippets/electronic_snippets/The Music's Got Me.7.wav\",\n",
       " 'snippets/electronic_snippets/03 Vision Of Art.45.wav',\n",
       " \"snippets/electronic_snippets/11 Whut'z Da Solution Featuring Kukoo Da Baga Bonez.27.wav\",\n",
       " 'snippets/electronic_snippets/08 Black Milk.41.wav',\n",
       " 'snippets/electronic_snippets/03 Digital Love.51.wav',\n",
       " \"snippets/electronic_snippets/07 Day's End Featuring Kazufumi Kodama.31.wav\",\n",
       " 'snippets/electronic_snippets/House Mix.7.wav',\n",
       " 'snippets/electronic_snippets/06 Mad Flava.37.wav',\n",
       " \"snippets/electronic_snippets/12 Block Rockin' Beats.17.wav\",\n",
       " 'snippets/electronic_snippets/03 Elapse.29.wav',\n",
       " 'snippets/electronic_snippets/Say Ahhh.25.wav',\n",
       " 'snippets/electronic_snippets/02 Zen Approach Featuring Black Thought.49.wav',\n",
       " 'snippets/electronic_snippets/River of Freedom.29.wav',\n",
       " 'snippets/electronic_snippets/Groove Is In The Heart.31.wav',\n",
       " 'snippets/electronic_snippets/11 Drum.29.wav',\n",
       " \"snippets/electronic_snippets/07 Day's End Featuring Kazufumi Kodama.1.wav\",\n",
       " 'snippets/electronic_snippets/11 Shinjiro Harsh Mix.21.wav',\n",
       " 'snippets/electronic_snippets/03 Vision Of Art.5.wav',\n",
       " 'snippets/electronic_snippets/08 Outro.3.wav',\n",
       " 'snippets/electronic_snippets/Technologic.3.wav',\n",
       " 'snippets/electronic_snippets/04  Harder, Faster, Better, Stronger.23.wav',\n",
       " \"snippets/electronic_snippets/05 Still Island Still'n'Slow Mix.3.wav\",\n",
       " 'snippets/electronic_snippets/01 Only The Strong Survive.33.wav',\n",
       " 'snippets/electronic_snippets/10 Bodywork.47.wav',\n",
       " 'snippets/electronic_snippets/13 Mosa Remix.39.wav',\n",
       " 'snippets/electronic_snippets/04 Sonic Traveler Featuring Tunde Ayanyemi.29.wav',\n",
       " 'snippets/electronic_snippets/09 Something About Us.33.wav',\n",
       " 'snippets/electronic_snippets/04 Fill Me In Sunship Remix.33.wav',\n",
       " 'snippets/electronic_snippets/09 Something About Us.15.wav',\n",
       " 'snippets/electronic_snippets/Euro House Mix.33.wav',\n",
       " 'snippets/electronic_snippets/10 Group Four.63.wav',\n",
       " 'snippets/electronic_snippets/Groove Is In The Heart.21.wav',\n",
       " 'snippets/electronic_snippets/05 Cloudbursting.39.wav',\n",
       " 'snippets/electronic_snippets/03 Danger Of Love Featuring Zap Mama.11.wav',\n",
       " 'snippets/electronic_snippets/House Mix.3.wav',\n",
       " 'snippets/electronic_snippets/Hey Boy, Hey Girl.33.wav',\n",
       " 'snippets/electronic_snippets/13 Apple Juice Kisses.35.wav',\n",
       " 'snippets/electronic_snippets/01 Only The Strong Survive.37.wav',\n",
       " 'snippets/electronic_snippets/11 Bring Me Your Love.7.wav',\n",
       " 'snippets/electronic_snippets/Around The World.5.wav',\n",
       " 'snippets/electronic_snippets/Technologic.19.wav',\n",
       " 'snippets/electronic_snippets/10 Group Four.85.wav',\n",
       " 'snippets/electronic_snippets/09 Something About Us.37.wav',\n",
       " 'snippets/electronic_snippets/05 Dancing On My Grave.29.wav',\n",
       " 'snippets/electronic_snippets/Funk Soul Brother.23.wav',\n",
       " 'snippets/electronic_snippets/Around The World.35.wav',\n",
       " 'snippets/electronic_snippets/09 Duality.85.wav',\n",
       " 'snippets/electronic_snippets/02 Risingson.17.wav',\n",
       " 'snippets/electronic_snippets/13 Mosa Remix.37.wav',\n",
       " 'snippets/electronic_snippets/Chemical Beats.55.wav',\n",
       " 'snippets/electronic_snippets/01 Future Proof.61.wav',\n",
       " \"snippets/electronic_snippets/12 Block Rockin' Beats.11.wav\",\n",
       " \"snippets/electronic_snippets/05 Still Island Still'n'Slow Mix.55.wav\",\n",
       " 'snippets/electronic_snippets/08 Outro.1.wav',\n",
       " 'snippets/electronic_snippets/13 Bypath Would You Take It.11.wav',\n",
       " 'snippets/electronic_snippets/09 Mezzanine.49.wav',\n",
       " \"snippets/electronic_snippets/The Music's Got Me.65.wav\",\n",
       " 'snippets/electronic_snippets/10 Endless Railway Featuring Ahmir Questlove Thompson.65.wav',\n",
       " 'snippets/electronic_snippets/32 Setting Sun.13.wav',\n",
       " 'snippets/electronic_snippets/Around The World.43.wav',\n",
       " \"snippets/electronic_snippets/Let's Get High.5.wav\",\n",
       " 'snippets/electronic_snippets/House Mix.25.wav',\n",
       " 'snippets/electronic_snippets/15 DMT Dance Music Trance.25.wav',\n",
       " \"snippets/electronic_snippets/Let's Get High.49.wav\",\n",
       " 'snippets/electronic_snippets/10 Bodywork.29.wav',\n",
       " 'snippets/electronic_snippets/11 Bring Me Your Love.11.wav',\n",
       " 'snippets/electronic_snippets/3-15 Bruce Lee MC.33.wav',\n",
       " 'snippets/electronic_snippets/06 Endless Railway.25.wav',\n",
       " 'snippets/electronic_snippets/06 Dissolved Girl.23.wav',\n",
       " 'snippets/electronic_snippets/04 Sonic Traveler Featuring Tunde Ayanyemi.53.wav',\n",
       " 'snippets/electronic_snippets/13 Bypath Would You Take It.3.wav',\n",
       " \"snippets/electronic_snippets/11 Whut'z Da Solution Featuring Kukoo Da Baga Bonez.47.wav\",\n",
       " 'snippets/electronic_snippets/10 Danger Of Love Gray Sky.27.wav',\n",
       " 'snippets/electronic_snippets/Technologic.35.wav',\n",
       " \"snippets/electronic_snippets/The Music's Got Me.1.wav\",\n",
       " \"snippets/electronic_snippets/05 Still Island Still'n'Slow Mix.45.wav\",\n",
       " 'snippets/electronic_snippets/09 Something About Us.9.wav',\n",
       " 'snippets/electronic_snippets/09 Duality.51.wav',\n",
       " 'snippets/electronic_snippets/05 Final Home Piano Mix.11.wav',\n",
       " \"snippets/electronic_snippets/05 Still Island Still'n'Slow Mix.21.wav\",\n",
       " 'snippets/electronic_snippets/14 Party Happening People.1.wav',\n",
       " 'snippets/electronic_snippets/04 Inertia Creeps.37.wav',\n",
       " 'snippets/electronic_snippets/06 Dissolved Girl.65.wav',\n",
       " 'snippets/electronic_snippets/08 Song For John Walker.43.wav',\n",
       " 'snippets/electronic_snippets/03 Teardrop.11.wav',\n",
       " 'snippets/electronic_snippets/06 Vision Of Art Featuring Company Flow.5.wav',\n",
       " 'snippets/electronic_snippets/03 Danger Of Love Featuring Zap Mama.49.wav',\n",
       " 'snippets/electronic_snippets/02 Risingson.27.wav',\n",
       " 'snippets/electronic_snippets/03 Vision Of Art.1.wav',\n",
       " 'snippets/electronic_snippets/12 Duck Chase Double up Mix.3.wav',\n",
       " 'snippets/electronic_snippets/River of Freedom.31.wav',\n",
       " 'snippets/electronic_snippets/10 Endless Railway Featuring Ahmir Questlove Thompson.75.wav',\n",
       " 'snippets/electronic_snippets/04 Inertia Creeps.15.wav',\n",
       " 'snippets/electronic_snippets/06 Endless Railway.27.wav',\n",
       " 'snippets/electronic_snippets/03 Elapse.17.wav',\n",
       " 'snippets/electronic_snippets/Funk Soul Brother.3.wav',\n",
       " 'snippets/electronic_snippets/07 Blue Shift.13.wav',\n",
       " 'snippets/electronic_snippets/05 Duck Chase.51.wav',\n",
       " 'snippets/electronic_snippets/05 Duck Chase.5.wav',\n",
       " 'snippets/electronic_snippets/Groove Is In The Heart.45.wav',\n",
       " 'snippets/electronic_snippets/01 Only The Strong Survive.9.wav',\n",
       " 'snippets/electronic_snippets/Technologic.21.wav',\n",
       " 'snippets/electronic_snippets/08 Submerge.47.wav',\n",
       " 'snippets/electronic_snippets/03 Vision Of Art.11.wav',\n",
       " 'snippets/electronic_snippets/03 Teardrop.9.wav',\n",
       " 'snippets/electronic_snippets/04 Inertia Creeps.45.wav',\n",
       " 'snippets/electronic_snippets/07 Man Next Door.45.wav',\n",
       " 'snippets/electronic_snippets/Funk Soul Brother.33.wav',\n",
       " 'snippets/electronic_snippets/05 Final Home Piano Mix.31.wav',\n",
       " 'snippets/electronic_snippets/Hey Boy, Hey Girl.49.wav',\n",
       " 'snippets/electronic_snippets/11 Drum.13.wav',\n",
       " 'snippets/electronic_snippets/House Mix.75.wav',\n",
       " 'snippets/electronic_snippets/Little Fluffy Clouds 12 Mix.19.wav',\n",
       " 'snippets/electronic_snippets/01 Future Proof.41.wav',\n",
       " 'snippets/electronic_snippets/08 Black Milk.47.wav',\n",
       " 'snippets/electronic_snippets/Around The World.37.wav',\n",
       " 'snippets/electronic_snippets/11 Bring Me Your Love.1.wav',\n",
       " 'snippets/electronic_snippets/08 Submerge.25.wav',\n",
       " \"snippets/electronic_snippets/08 Star Guitar [Pete Heller's Expanded Mix].29.wav\",\n",
       " 'snippets/electronic_snippets/06 Dissolved Girl.3.wav',\n",
       " 'snippets/electronic_snippets/09 Candle Chant (A Tribute) Featuring Boss The MC.7.wav',\n",
       " 'snippets/electronic_snippets/Shiny Disco Balls.11.wav',\n",
       " 'snippets/electronic_snippets/Bittersweet Loving.25.wav',\n",
       " 'snippets/electronic_snippets/03 Elapse.53.wav',\n",
       " 'snippets/electronic_snippets/10 Group Four.23.wav',\n",
       " 'snippets/electronic_snippets/Funk Soul Brother.11.wav',\n",
       " 'snippets/electronic_snippets/10 Bodywork.17.wav',\n",
       " 'snippets/electronic_snippets/09 Meiso.33.wav',\n",
       " 'snippets/electronic_snippets/15 DMT Dance Music Trance.1.wav',\n",
       " 'snippets/electronic_snippets/12 Paradise Bird Theory Featuring Sunja Lee.53.wav',\n",
       " 'snippets/electronic_snippets/08 Submerge.43.wav',\n",
       " 'snippets/electronic_snippets/05 Cloudbursting.5.wav',\n",
       " 'snippets/electronic_snippets/05 Butterfly Caught.83.wav',\n",
       " 'snippets/electronic_snippets/Say Ahhh.49.wav',\n",
       " 'snippets/electronic_snippets/Hard Core Rave.23.wav',\n",
       " \"snippets/electronic_snippets/05 Still Island Still'n'Slow Mix.29.wav\",\n",
       " 'snippets/electronic_snippets/06 Vision Of Art Featuring Company Flow.9.wav',\n",
       " 'snippets/electronic_snippets/House Mix.81.wav',\n",
       " 'snippets/electronic_snippets/13 Mosa Remix.17.wav',\n",
       " 'snippets/electronic_snippets/08 Submerge.9.wav',\n",
       " \"snippets/electronic_snippets/08 With Grace Featuring N'Dea Davenport.41.wav\",\n",
       " 'snippets/electronic_snippets/03 Halo.37.wav',\n",
       " 'snippets/electronic_snippets/06 Dissolved Girl.21.wav',\n",
       " \"snippets/electronic_snippets/07 Day's End After dusk Mix.21.wav\",\n",
       " 'snippets/electronic_snippets/04 Fill Me In Sunship Remix.27.wav',\n",
       " 'snippets/electronic_snippets/3-15 Bruce Lee MC.53.wav',\n",
       " 'snippets/electronic_snippets/09 Mezzanine.11.wav',\n",
       " 'snippets/electronic_snippets/04 Trihedron Stray Mix.63.wav',\n",
       " 'snippets/electronic_snippets/12 Duck Chase Double up Mix.11.wav',\n",
       " 'snippets/electronic_snippets/05 Cloudbursting.59.wav',\n",
       " 'snippets/electronic_snippets/10 Endless Railway Featuring Ahmir Questlove Thompson.51.wav',\n",
       " \"snippets/electronic_snippets/08 With Grace Featuring N'Dea Davenport.19.wav\",\n",
       " 'snippets/electronic_snippets/01 Charming the Serpent.43.wav',\n",
       " 'snippets/electronic_snippets/02 Zen Approach Featuring Black Thought.1.wav',\n",
       " 'snippets/electronic_snippets/14 Party Happening People.7.wav',\n",
       " 'snippets/electronic_snippets/05 Duck Chase.29.wav',\n",
       " 'snippets/electronic_snippets/06 Endless Railway.35.wav',\n",
       " 'snippets/electronic_snippets/11 Exchange.7.wav',\n",
       " 'snippets/electronic_snippets/32 Setting Sun.23.wav',\n",
       " 'snippets/electronic_snippets/04 Inertia Creeps.69.wav',\n",
       " 'snippets/electronic_snippets/12 Duck Chase Double up Mix.33.wav',\n",
       " 'snippets/electronic_snippets/11 Bring Me Your Love.41.wav',\n",
       " 'snippets/electronic_snippets/07 Blue Shift.27.wav',\n",
       " 'snippets/electronic_snippets/09 Duality.43.wav',\n",
       " 'snippets/electronic_snippets/09 Music Selector is the Soul Reflector.1.wav',\n",
       " 'snippets/electronic_snippets/17 Where Do I Begin.35.wav',\n",
       " 'snippets/electronic_snippets/04 Trihedron Stray Mix.77.wav',\n",
       " 'snippets/electronic_snippets/01 Call Me.25.wav',\n",
       " 'snippets/electronic_snippets/01 Song 1.25.wav',\n",
       " 'snippets/electronic_snippets/06 Dissolved Girl.9.wav',\n",
       " 'snippets/electronic_snippets/Hard Core Rave.3.wav',\n",
       " 'snippets/electronic_snippets/11 Shinjiro Harsh Mix.41.wav',\n",
       " 'snippets/electronic_snippets/01 Angel.49.wav',\n",
       " 'snippets/electronic_snippets/13 Final Home.33.wav',\n",
       " 'snippets/electronic_snippets/11 Exchange.3.wav',\n",
       " 'snippets/electronic_snippets/12 Paradise Bird Theory Featuring Sunja Lee.47.wav',\n",
       " 'snippets/electronic_snippets/13 Final Home.17.wav',\n",
       " 'snippets/electronic_snippets/Human After All.11.wav',\n",
       " 'snippets/electronic_snippets/12 Paradise Bird Theory Featuring Sunja Lee.11.wav',\n",
       " 'snippets/electronic_snippets/03 Vision Of Art.9.wav',\n",
       " 'snippets/electronic_snippets/01 Charming the Serpent.31.wav',\n",
       " 'snippets/electronic_snippets/08 Submerge.55.wav',\n",
       " 'snippets/electronic_snippets/04 Inertia Creeps.25.wav',\n",
       " 'snippets/electronic_snippets/Shiny Disco Balls.27.wav',\n",
       " 'snippets/electronic_snippets/A Alarm 2000.23.wav',\n",
       " 'snippets/electronic_snippets/04 Trihedron Stray Mix.73.wav',\n",
       " \"snippets/electronic_snippets/07 Day's End After dusk Mix.49.wav\",\n",
       " 'snippets/electronic_snippets/03 Vision Of Art.25.wav',\n",
       " 'snippets/electronic_snippets/08 Black Milk.31.wav',\n",
       " 'snippets/electronic_snippets/03 Danger Of Love Featuring Zap Mama.65.wav',\n",
       " 'snippets/electronic_snippets/14 Beautiful Child A Deeper Love.13.wav',\n",
       " 'snippets/electronic_snippets/03 Halo.43.wav',\n",
       " 'snippets/electronic_snippets/Say Ahhh.29.wav',\n",
       " 'snippets/electronic_snippets/Technologic.15.wav',\n",
       " 'snippets/electronic_snippets/32 Setting Sun.39.wav',\n",
       " 'snippets/electronic_snippets/07 Nosferatu Space Cadet Mix.45.wav',\n",
       " 'snippets/electronic_snippets/Bittersweet Loving.43.wav',\n",
       " 'snippets/electronic_snippets/Say Ahhh.39.wav',\n",
       " 'snippets/electronic_snippets/10 Group Four.17.wav',\n",
       " 'snippets/electronic_snippets/10 Bodywork.3.wav',\n",
       " \"snippets/electronic_snippets/07 Day's End Featuring Kazufumi Kodama.23.wav\",\n",
       " 'snippets/electronic_snippets/10 Club Soda.35.wav',\n",
       " 'snippets/electronic_snippets/14 Beautiful Child A Deeper Love.5.wav',\n",
       " 'snippets/electronic_snippets/17 Where Do I Begin.53.wav',\n",
       " 'snippets/electronic_snippets/17 Where Do I Begin.33.wav',\n",
       " 'snippets/electronic_snippets/03 Vision Of Art.49.wav',\n",
       " 'snippets/electronic_snippets/04 Sonic Traveler Featuring Tunde Ayanyemi.63.wav',\n",
       " 'snippets/electronic_snippets/06 Endless Railway.41.wav',\n",
       " 'snippets/electronic_snippets/12 Paradise Bird Theory Featuring Sunja Lee.15.wav',\n",
       " 'snippets/electronic_snippets/01 Charming the Serpent.11.wav',\n",
       " \"snippets/electronic_snippets/08 With Grace Featuring N'Dea Davenport.21.wav\",\n",
       " \"snippets/electronic_snippets/12 Block Rockin' Beats.5.wav\",\n",
       " 'snippets/electronic_snippets/One More Time.67.wav',\n",
       " 'snippets/electronic_snippets/08 Submerge.85.wav',\n",
       " 'snippets/electronic_snippets/01 Charming the Serpent.35.wav',\n",
       " 'snippets/electronic_snippets/05 Final Home Piano Mix.3.wav',\n",
       " 'snippets/electronic_snippets/03 Teardrop.37.wav',\n",
       " 'snippets/electronic_snippets/01 Charming the Serpent.37.wav',\n",
       " 'snippets/electronic_snippets/07 Blue Shift.63.wav',\n",
       " 'snippets/electronic_snippets/River of Freedom.35.wav',\n",
       " 'snippets/electronic_snippets/01 Angel.39.wav',\n",
       " 'snippets/electronic_snippets/13 Final Home.27.wav',\n",
       " 'snippets/electronic_snippets/01 Angel.59.wav',\n",
       " \"snippets/electronic_snippets/12 Block Rockin' Beats.39.wav\",\n",
       " \"snippets/electronic_snippets/Let's Get High.3.wav\",\n",
       " 'snippets/electronic_snippets/17 Where Do I Begin.29.wav',\n",
       " 'snippets/electronic_snippets/03 Halo.67.wav',\n",
       " 'snippets/electronic_snippets/15 DMT Dance Music Trance.11.wav',\n",
       " 'snippets/electronic_snippets/09 Duality.35.wav',\n",
       " \"snippets/electronic_snippets/08 Star Guitar [Pete Heller's Expanded Mix].57.wav\",\n",
       " 'snippets/electronic_snippets/05 Butterfly Caught.65.wav',\n",
       " 'snippets/electronic_snippets/09 Candle Chant (A Tribute) Featuring Boss The MC.15.wav',\n",
       " 'snippets/electronic_snippets/04 Trihedron Stray Mix.55.wav',\n",
       " 'snippets/electronic_snippets/04 Sonic Traveler Featuring Tunde Ayanyemi.11.wav',\n",
       " 'snippets/electronic_snippets/11 Drum.25.wav',\n",
       " 'snippets/electronic_snippets/01 Angel.19.wav',\n",
       " 'snippets/electronic_snippets/13 Apple Juice Kisses.23.wav',\n",
       " \"snippets/electronic_snippets/07 Day's End Featuring Kazufumi Kodama.35.wav\",\n",
       " 'snippets/electronic_snippets/05 Duck Chase.13.wav',\n",
       " 'snippets/electronic_snippets/09 Candle Chant (A Tribute) Featuring Boss The MC.47.wav',\n",
       " 'snippets/electronic_snippets/10 Endless Railway Featuring Ahmir Questlove Thompson.9.wav',\n",
       " 'snippets/electronic_snippets/07 Man Next Door.13.wav',\n",
       " 'snippets/electronic_snippets/07 Blue Shift.31.wav',\n",
       " 'snippets/electronic_snippets/Around The World.23.wav',\n",
       " \"snippets/electronic_snippets/08 Star Guitar [Pete Heller's Expanded Mix].43.wav\",\n",
       " 'snippets/electronic_snippets/07 Nosferatu Space Cadet Mix.15.wav',\n",
       " 'snippets/electronic_snippets/04 Inertia Creeps.31.wav',\n",
       " 'snippets/electronic_snippets/10 Sampladelic.5.wav',\n",
       " 'snippets/electronic_snippets/3-15 Bruce Lee MC.31.wav',\n",
       " 'snippets/electronic_snippets/08 Black Milk.3.wav',\n",
       " 'snippets/electronic_snippets/04 Inertia Creeps.63.wav',\n",
       " 'snippets/electronic_snippets/Funk Soul Brother.25.wav',\n",
       " 'snippets/electronic_snippets/03 Danger Of Love Featuring Zap Mama.53.wav',\n",
       " 'snippets/electronic_snippets/09 Mezzanine.51.wav',\n",
       " 'snippets/electronic_snippets/03 Teardrop.5.wav',\n",
       " 'snippets/electronic_snippets/12 Duck Chase Double up Mix.17.wav',\n",
       " 'snippets/electronic_snippets/Chemical Beats.49.wav',\n",
       " 'snippets/electronic_snippets/12 Paradise Bird Theory Featuring Sunja Lee.33.wav',\n",
       " 'snippets/electronic_snippets/17 Where Do I Begin.73.wav',\n",
       " 'snippets/electronic_snippets/Hey Boy, Hey Girl.15.wav',\n",
       " 'snippets/electronic_snippets/12 Duck Chase Double up Mix.15.wav',\n",
       " 'snippets/electronic_snippets/04 Fill Me In Sunship Remix.17.wav',\n",
       " 'snippets/electronic_snippets/02 Risingson.33.wav',\n",
       " \"snippets/electronic_snippets/The Music's Got Me.19.wav\",\n",
       " 'snippets/electronic_snippets/09 Candle Chant (A Tribute) Featuring Boss The MC.13.wav',\n",
       " 'snippets/electronic_snippets/09 Mezzanine.61.wav',\n",
       " 'snippets/electronic_snippets/House Mix.49.wav',\n",
       " 'snippets/electronic_snippets/03 Halo.63.wav',\n",
       " 'snippets/electronic_snippets/08 Song For John Walker.59.wav',\n",
       " \"snippets/electronic_snippets/05 Still Island Still'n'Slow Mix.51.wav\",\n",
       " 'snippets/electronic_snippets/01 Techno Rave House.15.wav',\n",
       " 'snippets/electronic_snippets/11 Shinjiro Harsh Mix.11.wav',\n",
       " 'snippets/electronic_snippets/10 Group Four.41.wav',\n",
       " 'snippets/electronic_snippets/08 High Life.9.wav',\n",
       " 'snippets/electronic_snippets/03 Halo.27.wav',\n",
       " 'snippets/electronic_snippets/09 Music Selector is the Soul Reflector.27.wav',\n",
       " \"snippets/electronic_snippets/08 With Grace Featuring N'Dea Davenport.71.wav\",\n",
       " 'snippets/electronic_snippets/06 Dissolved Girl.49.wav',\n",
       " \"snippets/electronic_snippets/05 Still Island Still'n'Slow Mix.59.wav\",\n",
       " 'snippets/electronic_snippets/05 Somebody.27.wav',\n",
       " 'snippets/electronic_snippets/14 Beautiful Child A Deeper Love.29.wav',\n",
       " 'snippets/electronic_snippets/Groove Is In The Heart.25.wav',\n",
       " 'snippets/electronic_snippets/River of Freedom.11.wav',\n",
       " 'snippets/electronic_snippets/06 Mad Flava.53.wav',\n",
       " 'snippets/electronic_snippets/10 Endless Railway Featuring Ahmir Questlove Thompson.71.wav',\n",
       " 'snippets/electronic_snippets/01 Call Me.31.wav',\n",
       " \"snippets/electronic_snippets/Let's Get High.33.wav\",\n",
       " 'snippets/electronic_snippets/03 Danger Of Love Featuring Zap Mama.23.wav',\n",
       " 'snippets/electronic_snippets/04 Inertia Creeps.19.wav',\n",
       " 'snippets/electronic_snippets/04 Sonic Traveler Featuring Tunde Ayanyemi.65.wav',\n",
       " 'snippets/electronic_snippets/04 Can I Get a Witness (Thievery Corporation Remix).13.wav',\n",
       " 'snippets/electronic_snippets/01 Song 1.13.wav',\n",
       " 'snippets/electronic_snippets/04 Sonic Traveler Featuring Tunde Ayanyemi.67.wav',\n",
       " \"snippets/electronic_snippets/08 With Grace Featuring N'Dea Davenport.47.wav\",\n",
       " 'snippets/electronic_snippets/01 Angel.23.wav',\n",
       " 'snippets/electronic_snippets/02 Aerodynamic.31.wav',\n",
       " 'snippets/electronic_snippets/02 Risingson.53.wav',\n",
       " 'snippets/electronic_snippets/Little Fluffy Clouds 12 Mix.11.wav',\n",
       " 'snippets/electronic_snippets/Hey Boy, Hey Girl.17.wav',\n",
       " 'snippets/electronic_snippets/03 Elapse.3.wav',\n",
       " 'snippets/electronic_snippets/10 Group Four.87.wav',\n",
       " 'snippets/electronic_snippets/Bittersweet Loving.15.wav',\n",
       " 'snippets/electronic_snippets/01 Charming the Serpent.21.wav',\n",
       " 'snippets/electronic_snippets/10 Bodywork.23.wav',\n",
       " 'snippets/electronic_snippets/03 Halo.35.wav',\n",
       " 'snippets/electronic_snippets/10 Club Soda.15.wav',\n",
       " 'snippets/electronic_snippets/01 Future Proof.37.wav',\n",
       " 'snippets/electronic_snippets/11 Exchange.41.wav',\n",
       " \"snippets/electronic_snippets/12 Block Rockin' Beats.33.wav\",\n",
       " 'snippets/electronic_snippets/05 Cloudbursting.79.wav',\n",
       " 'snippets/electronic_snippets/05 Somebody.9.wav',\n",
       " 'snippets/electronic_snippets/10 Endless Railway Featuring Ahmir Questlove Thompson.67.wav',\n",
       " 'snippets/electronic_snippets/12 Paradise Bird Theory Featuring Sunja Lee.27.wav',\n",
       " \"snippets/electronic_snippets/08 Star Guitar [Pete Heller's Expanded Mix].3.wav\",\n",
       " 'snippets/electronic_snippets/07 Blue Shift.51.wav',\n",
       " 'snippets/electronic_snippets/08 Submerge.11.wav',\n",
       " 'snippets/electronic_snippets/15 Dance Music Trance.15.wav',\n",
       " 'snippets/electronic_snippets/13 Bypath Would You Take It.23.wav',\n",
       " \"snippets/electronic_snippets/08 Star Guitar [Pete Heller's Expanded Mix].15.wav\",\n",
       " \"snippets/electronic_snippets/08 Star Guitar [Pete Heller's Expanded Mix].1.wav\",\n",
       " 'snippets/electronic_snippets/12 Picnic in the Summertime.11.wav',\n",
       " 'snippets/electronic_snippets/09 Meiso.39.wav',\n",
       " \"snippets/electronic_snippets/Let's Get High.23.wav\",\n",
       " 'snippets/electronic_snippets/Chemical Beats.13.wav',\n",
       " 'snippets/electronic_snippets/15 Dance Music Trance.7.wav',\n",
       " 'snippets/electronic_snippets/04 Fill Me In Sunship Remix.13.wav',\n",
       " 'snippets/electronic_snippets/01 Song 1.21.wav',\n",
       " \"snippets/electronic_snippets/05 Still Island Still'n'Slow Mix.35.wav\",\n",
       " 'snippets/electronic_snippets/Funk Soul Brother.41.wav',\n",
       " 'snippets/electronic_snippets/Say Ahhh.1.wav',\n",
       " 'snippets/electronic_snippets/Hey Boy, Hey Girl.19.wav',\n",
       " \"snippets/electronic_snippets/12 Block Rockin' Beats.37.wav\",\n",
       " 'snippets/electronic_snippets/Say Ahhh.47.wav',\n",
       " \"snippets/electronic_snippets/07 Day's End After dusk Mix.47.wav\",\n",
       " \"snippets/electronic_snippets/Let's Get High.39.wav\",\n",
       " 'snippets/electronic_snippets/11 Shinjiro Harsh Mix.25.wav',\n",
       " 'snippets/electronic_snippets/32 Setting Sun.7.wav',\n",
       " 'snippets/electronic_snippets/02 Stormy Cloud Raindrop Mix.9.wav',\n",
       " 'snippets/electronic_snippets/Say Ahhh.9.wav',\n",
       " 'snippets/electronic_snippets/01 Only The Strong Survive.11.wav',\n",
       " 'snippets/electronic_snippets/15 DMT Dance Music Trance.21.wav',\n",
       " 'snippets/electronic_snippets/08 Outro.45.wav',\n",
       " 'snippets/electronic_snippets/Yoga.7.wav',\n",
       " 'snippets/electronic_snippets/32 Setting Sun.41.wav',\n",
       " 'snippets/electronic_snippets/01 Techno Rave House.21.wav',\n",
       " 'snippets/electronic_snippets/09 Duality.41.wav',\n",
       " 'snippets/electronic_snippets/08 Submerge.53.wav',\n",
       " 'snippets/electronic_snippets/11 Exchange.1.wav',\n",
       " 'snippets/electronic_snippets/Human After All.25.wav',\n",
       " 'snippets/electronic_snippets/08 Song For John Walker.3.wav',\n",
       " 'snippets/electronic_snippets/Little Fluffy Clouds 12 Mix.5.wav',\n",
       " 'snippets/electronic_snippets/10 Sampladelic.3.wav',\n",
       " 'snippets/electronic_snippets/02 Zen Approach Featuring Black Thought.41.wav',\n",
       " 'snippets/electronic_snippets/10 Bodywork.55.wav',\n",
       " ...]"
      ]
     },
     "execution_count": 46,
     "metadata": {},
     "output_type": "execute_result"
    }
   ],
   "source": [
    "electronic_list"
   ]
  },
  {
   "cell_type": "code",
   "execution_count": 6,
   "metadata": {
    "collapsed": true
   },
   "outputs": [],
   "source": [
    "jazz_list = glob.glob('snippets/jazz_snippets/*.wav')"
   ]
  },
  {
   "cell_type": "code",
   "execution_count": 7,
   "metadata": {
    "collapsed": true
   },
   "outputs": [],
   "source": [
    "metal_list = glob.glob('snippets/metal_snippets/*.wav')"
   ]
  },
  {
   "cell_type": "code",
   "execution_count": 8,
   "metadata": {
    "collapsed": true
   },
   "outputs": [],
   "source": [
    "oldies_list = glob.glob('snippets/oldies_snippets/*.wav')"
   ]
  },
  {
   "cell_type": "code",
   "execution_count": 9,
   "metadata": {
    "collapsed": true
   },
   "outputs": [],
   "source": [
    "reggae_list = glob.glob('snippets/reggae_snippets/*.wav')"
   ]
  },
  {
   "cell_type": "markdown",
   "metadata": {},
   "source": [
    "#### Running a short-time fourier transform on each list of genres"
   ]
  },
  {
   "cell_type": "code",
   "execution_count": 59,
   "metadata": {
    "collapsed": false
   },
   "outputs": [],
   "source": [
    "electronic_stft = []\n",
    "\n",
    "for file_name in electronic_list:\n",
    "    temp = stft_array(file_name)\n",
    "    electronic_stft.append(temp)"
   ]
  },
  {
   "cell_type": "code",
   "execution_count": 66,
   "metadata": {
    "collapsed": false
   },
   "outputs": [
    {
     "data": {
      "text/plain": [
       "(1025, 431)"
      ]
     },
     "execution_count": 66,
     "metadata": {},
     "output_type": "execute_result"
    }
   ],
   "source": [
    "electronic_stft[0].shape"
   ]
  },
  {
   "cell_type": "code",
   "execution_count": 76,
   "metadata": {
    "collapsed": false
   },
   "outputs": [
    {
     "data": {
      "text/plain": [
       "2802"
      ]
     },
     "execution_count": 76,
     "metadata": {},
     "output_type": "execute_result"
    }
   ],
   "source": [
    "len([arr for arr in electronic_stft if arr.shape == (1025, 431)])"
   ]
  },
  {
   "cell_type": "code",
   "execution_count": 67,
   "metadata": {
    "collapsed": false,
    "scrolled": false
   },
   "outputs": [
    {
     "data": {
      "text/plain": [
       "2809"
      ]
     },
     "execution_count": 67,
     "metadata": {},
     "output_type": "execute_result"
    }
   ],
   "source": [
    "len(electronic_stft)"
   ]
  },
  {
   "cell_type": "markdown",
   "metadata": {},
   "source": [
    "** Uh,oh, we have 7 arrays that are different in size.... we will drop these.**"
   ]
  },
  {
   "cell_type": "code",
   "execution_count": 88,
   "metadata": {
    "collapsed": true
   },
   "outputs": [],
   "source": [
    "elec_good = [arr for arr in electronic_stft if arr.shape == (1025, 431)]"
   ]
  },
  {
   "cell_type": "code",
   "execution_count": null,
   "metadata": {
    "collapsed": true
   },
   "outputs": [],
   "source": [
    "elec_arr = np.array(elec_good)"
   ]
  },
  {
   "cell_type": "code",
   "execution_count": 90,
   "metadata": {
    "collapsed": false
   },
   "outputs": [],
   "source": [
    "np.save('elec_arr', elec_arr)"
   ]
  },
  {
   "cell_type": "markdown",
   "metadata": {},
   "source": [
    "**...now some jazz**"
   ]
  },
  {
   "cell_type": "code",
   "execution_count": 10,
   "metadata": {
    "collapsed": false
   },
   "outputs": [
    {
     "name": "stdout",
     "output_type": "stream",
     "text": [
      ". . . . . . . . . . . . . . . . . . . . . . . . . . . . . . . . . . . . . . . . . . . . . . . . . . . . . . . . . . . . . . . . . . . . . . . . . . . . . . . . . . . . . . . . . . . . . . . . . . . . . . . . . . . . . . . . . . . . . . . . . . . . . . . . . . . . . . . . . . . . . . . . . . . . . . . . . . . . . . . . . . . . . . . . . . . . . . . . . . . . . . . . . . . . . . . . . . . . . . . . . . . . . . . . . . . . . . . . . . . . . . . . . . . . . . . . . . . . . . . . . . . . . . . . . . . . . . . . . . . . . . . . . . . . . . . . . . . . . . . . . . . . . . . . . . . . . . . . . . . . . . . . . . . . . . . . . . . . . . . . . . . . . . . . . . . . . . . . . . . . . . . . . . . . . . . . . . . . . . . . . . . . . . . . . . . . . . . . . . . . . . . . . . . . . . . . . . . . . . . . . . . . . . . . . . . . . . . . . . . . . . . . . . . . . . . . . . . . . . . . . . . . . . . . . . . . . . . . . . . . . . . . . . . . . . . . . . . . . . . . . . . . . . . . . . . . . . . . . . . . . . . . . . . . . . . . . . . . . . . . . . . . . . . . . . . . . . . . . . . . . . . . . . . . . . . . . . . . . . . . . . . . . . . . . . . . . . . . . . . . . . . . . . . . . . . . . . . . . . . . . . . . . . . . . . . . . . . . . . . . . . . . . . . . . . . . . . . . . . . . . . . . . . . . . . . . . . . . . . . . . . . . . . . . . . . . . . . . . . . . . . . . . . . . . . . . . . . . . . . . . . . . . . . . . . . . . . . . . . . . . . . . . . . . . . . . . . . . . . . . . . . . . . . . . . . . . . . . . . . . . . . . . . . . . . . . . . . . . . . . . . . . . . . . . . . . . . . . . . . . . . . . . . . . . . . . . . . . . . . . . . . . . . . . . . . . . . . . . . . . . . . . . . . . . . . . . . . . . . . . . . . . . . . . . . . . . . . . . . . . . . . . . . . . . . . . . . . . . . . . . . . . . . . . . . . . . . . . . . . . . . . . . . . . . . . . . . . . . . . . . . . . . . . . . . . . . . . . . . . . . . . . . . . . . . . . . . . . . . . . . . . . . . . . . . . . . . . . . . . . . . . . . . . . . . . . . . . . . . . . . . . . . . . . . . . . . . . . . . . . . . . . . . . . . . . . . . . . . . . . . . . . . . . . . . . . . . . . . . . . . . . . . . . . . . . . . . . . . . . . . . . . . . . . . . . . . . . . . . . . . . . . . . . . . . . . . . . . . . . . . . . . . . . . . . . . . . . . . . . . . . . . . . . . . . . . . . . . . . . . . . . . . . . . . . . . . . . . . . . . . . . . . . . . . . . . . . . . . . . . . . . . . . . . . . . . . . . . . . . . . . . . . . . . . . . . . . . . . . . . . . . . . . . . . . . . . . . . . . . . . . . . . . . . . . . . . . . . . . . . . . . . . . . . . . . . . . . . . . . . . . . . . . . . . . . . . . . . . . . . . . . . . . . . . . . . . . . . . . . . . . . . . . . . . . . . . . . . . . . . . . . . . . . . . . . . . . . . . . . . . . . . . . . . . . . . . . . . . . . . . . . . . . . . . . . . . . . . . . . . . . . . . . . . . . . . . . . . . . . . . . . . . . . . . . . . . . . . . . . . . . . . . . . . . . . . . . . . . . . . . . . . . . . . . . . . . . . . . . . . . . . . . . . . . . . . . . . . . . . . . . . . . . . . . . . . . . . . . . . . . . . . . . . . . . . . . . . . . . . . . . . . . . . . . . . . . . . . . . . . . . . . . . . . . . . . . . . . . . . . . . . . . . . . . . . . . . . . . . . . . . . . . . . . . . . . . . . . . . . . . . . . . . . . . . . . . . . . . . . . . . . . . . . . . . . . . . . . . . . . . . . . . . . . . . . . . . . . . . . . . . . . . . . . . . . . . . . . . . . . . . . . . . . . . . . . . . . . . . . . . . . . . . . . . . . . . . . . . . . . . . . . . . . . . . . . . . . . . . . . . . . . . . . . . . . . . . . . . . . . . . . . . . . . . . . . . . . . . . . . . . . . . . . . . . . . . . . . . . . . . . . . . . . . . . . . . . . . . . . . . . . . . . . . . . . . . . . . . . . . . . . . . . . . . . . . . . . . . . . . . . . . . . . . . . . . . . . . . . . . . . . . . . . . . . . . . . . . . . . . . . . . . . . . . . . . . . . . . . . . . . . . . . . . . . . . . . . . . . . . . . . . . . . . . . . . . . . . . . . . . . . . . . . . . . . . . . . . . . . . . . . . . . . . . . . . . . . . . . . . . . . . . . . . . . . . . . . . . . . . . . . . . . . . . . . . . . . . . . . . . . . . . . . . . . . . . . . . . . . . . . . . . . . . . . . . . . . . . . . . . . . . . . . . . . . . . . . . . . . . . . . . . . . . . . . . . . . . . . . . . . . . . . . . . . . . . . . . . . . . . . . . . . . . . . . . . . . . . . . . . . . . . . . . . . . . . . . . . . . . . . . . . . . . . . . . . . . . . . . . . . . . . . . . . . . . . . . . . . . . . . . . . . . . . . . . . . . . . . . . . . . . . . . . . . . . . . . . . . . . . . . . . . . . . . . . . . . . . . . . . . . . . . . . . . . . . . . . . . . . . . . . . . . . . . . . . . . . . . . . . . . . . . . . . . . . . . . . . . . . . . . . . . . . . . . . . . . . . . . . . . . . . . . . . . . . . . . . . . . . . . . . . . . . . . . . . . . . . . . . . . . . . . . . . . . . . . . . . . . . . . . . . . . . . . . . . . . . . . . . . . . . . . . . . . . . . . . . . . . . . . . . . . . . . . . . . . . . . . . . . . . . . . . . . . . . . . . . . . . . . . . . . . . . . . . . . . . . . . . . . . . . . . . . . . . . . . . . . . . . . . . . . . . . . . . . . . . . . . . . . . . . . . . . . . . . . . . . . . . . . . . . . . . . . . . . . . . . . . . . . . . . . . . . . . . . . . . . . . . . . . . . . . . . . . . . . . . . . . . . . . . . . . . . . . . . . .\n"
     ]
    }
   ],
   "source": [
    "jazz_stft = []\n",
    "\n",
    "for file_name in jazz_list:\n",
    "    print '.',\n",
    "    temp = stft_array(file_name)\n",
    "    jazz_stft.append(temp)"
   ]
  },
  {
   "cell_type": "code",
   "execution_count": 12,
   "metadata": {
    "collapsed": false
   },
   "outputs": [
    {
     "data": {
      "text/plain": [
       "2707"
      ]
     },
     "execution_count": 12,
     "metadata": {},
     "output_type": "execute_result"
    }
   ],
   "source": [
    "len([arr for arr in jazz_stft if arr.shape == (1025, 431)])"
   ]
  },
  {
   "cell_type": "code",
   "execution_count": 13,
   "metadata": {
    "collapsed": false
   },
   "outputs": [
    {
     "data": {
      "text/plain": [
       "2714"
      ]
     },
     "execution_count": 13,
     "metadata": {},
     "output_type": "execute_result"
    }
   ],
   "source": [
    "len(jazz_stft)"
   ]
  },
  {
   "cell_type": "markdown",
   "metadata": {},
   "source": [
    "** We have 7 arrays that are different in size.... we will drop these.**"
   ]
  },
  {
   "cell_type": "code",
   "execution_count": 15,
   "metadata": {
    "collapsed": true
   },
   "outputs": [],
   "source": [
    "jazz_good = [arr for arr in jazz_stft if arr.shape == (1025, 431)]"
   ]
  },
  {
   "cell_type": "code",
   "execution_count": 16,
   "metadata": {
    "collapsed": false
   },
   "outputs": [],
   "source": [
    "jazz_arr = np.array(jazz_good)"
   ]
  },
  {
   "cell_type": "code",
   "execution_count": 17,
   "metadata": {
    "collapsed": true
   },
   "outputs": [],
   "source": [
    "np.save('jazz_arr', jazz_arr)"
   ]
  },
  {
   "cell_type": "markdown",
   "metadata": {},
   "source": [
    "#### ...Now some Metal"
   ]
  },
  {
   "cell_type": "code",
   "execution_count": 10,
   "metadata": {
    "collapsed": false
   },
   "outputs": [
    {
     "name": "stdout",
     "output_type": "stream",
     "text": [
      ". . . . . . . . . . . . . . . . . . . . . . . . . . . . . . . . . . . . . . . . . . . . . . . . . . . . . . . . . . . . . . . . . . . . . . . . . . . . . . . . . . . . . . . . . . . . . . . . . . . . . . . . . . . . . . . . . . . . . . . . . . . . . . . . . . . . . . . . . . . . . . . . . . . . . . . . . . . . . . . . . . . . . . . . . . . . . . . . . . . . . . . . . . . . . . . . . . . . . . . . . . . . . . . . . . . . . . . . . . . . . . . . . . . . . . . . . . . . . . . . . . . . . . . . . . . . . . . . . . . . . . . . . . . . . . . . . . . . . . . . . . . . . . . . . . . . . . . . . . . . . . . . . . . . . . . . . . . . . . . . . . . . . . . . . . . . . . . . . . . . . . . . . . . . . . . . . . . . . . . . . . . . . . . . . . . . . . . . . . . . . . . . . . . . . . . . . . . . . . . . . . . . . . . . . . . . . . . . . . . . . . . . . . . . . . . . . . . . . . . . . . . . . . . . . . . . . . . . . . . . . . . . . . . . . . . . . . . . . . . . . . . . . . . . . . . . . . . . . . . . . . . . . . . . . . . . . . . . . . . . . . . . . . . . . . . . . . . . . . . . . . . . . . . . . . . . . . . . . . . . . . . . . . . . . . . . . . . . . . . . . . . . . . . . . . . . . . . . . . . . . . . . . . . . . . . . . . . . . . . . . . . . . . . . . . . . . . . . . . . . . . . . . . . . . . . . . . . . . . . . . . . . . . . . . . . . . . . . . . . . . . . . . . . . . . . . . . . . . . . . . . . . . . . . . . . . . . . . . . . . . . . . . . . . . . . . . . . . . . . . . . . . . . . . . . . . . . . . . . . . . . . . . . . . . . . . . . . . . . . . . . . . . . . . . . . . . . . . . . . . . . . . . . . . . . . . . . . . . . . . . . . . . . . . . . . . . . . . . . . . . . . . . . . . . . . . . . . . . . . . . . . . . . . . . . . . . . . . . . . . . . . . . . . . . . . . . . . . . . . . . . . . . . . . . . . . . . . . . . . . . . . . . . . . . . . . . . . . . . . . . . . . . . . . . . . . . . . . . . . . . . . . . . . . . . . . . . . . . . . . . . . . . . . . . . . . . . . . . . . . . . . . . . . . . . . . . . . . . . . . . . . . . . . . . . . . . . . . . . . . . . . . . . . . . . . . . . . . . . . . . . . . . . . . . . . . . . . . . . . . . . . . . . . . . . . . . . . . . . . . . . . . . . . . . . . . . . . . . . . . . . . . . . . . . . . . . . . . . . . . . . . . . . . . . . . . . . . . . . . . . . . . . . . . . . . . . . . . . . . . . . . . . . . . . . . . . . . . . . . . . . . . . . . . . . . . . . . . . . . . . . . . . . . . . . . . . . . . . . . . . . . . . . . . . . . . . . . . . . . . . . . . . . . . . . . . . . . . . . . . . . . . . . . . . . . . . . . . . . . . . . . . . . . . . . . . . . . . . . . . . . . . . . . . . . . . . . . . . . . . . . . . . . . . . . . . . . . . . . . . . . . . . . . . . . . . . . . . . . . . . . . . . . . . . . . . . . . . . . . . . . . . . . . . . . . . . . . . . . . . . . . . . . . . . . . . . . . . . . . . . . . . . . . . . . . . . . . . . . . . . . . . . . . . . . . . . . . . . . . . . . . . . . . . . . . . . . . . . . . . . . . . . . . . . . . . . . . . . . . . . . . . . . . . . . . . . . . . . . . . . . . . . . . . . . . . . . . . . . . . . . . . . . . . . . . . . . . . . . . . . . . . . . . . . . . . . . . . . . . . . . . . . . . . . . . . . . . . . . . . . . . . . . . . . . . . . . . . . . . . . . . . . . . . . . . . . . . . . . . . . . . . . . . . . . . . . . . . . . . . . . . . . . . . . . . . . . . . . . . . . . . . . . . . . . . . . . . . . . . . . . . . . . . . . . . . . . . . . . . . . . . . . . . . . . . . . . . . . . . . . . . . . . . . . . . . . . . . . . . . . . . . . . . . . . . . . . . . . . . . . . . . . . . . . . . . . . . . . . . . . . . . . . . . . . . . . . . . . . . . . . . . . . . . . . . . . . . . . . . . . . . . . . . . . . . . . . . . . . . . . . . . . . . . . . . . . . . . . . . . . . . . . . . . . . . . . . . . . . . . . . . . . . . . . . . . . . . . . . . . . . . . . . . . . . . . . . . . . . . . . . . . . . . . . . . . . . . . . . . . . . . . . . . . . . . . . . . . . . . . . . . . . . . . . . . . . . . . . . . . . . . . . . . . . . . . . . . . . . . . . . . . . . . . . . . . . . . . . . . . . . . . . . . . . . . . . . . . . . . . . . . . . . . . . . . . . . . . . . . . . . . . . . . . . . . . . . . . . . . . . . . . . . . . . . . . . . . . . . . . . . . . . . . . . . . . . . . . . . . . . . . . . . . . . . . . . . . . . . . . . . . . . . . . . . . . . . . . . . . . . . . . . . . . . . . . . . . . . . . . . . . . . . . . . . . . . . . . . . . . . . . . . . . . . . . . . . . . . . . . . . . . . . . . . . . . . . . . . . . . . . . . . . . . . . . . . . . . . . . . . . . . . . . . . . . . . . . . . . . . . . . . . . . . . . . . . . . . . . . . . . . . . . . . . . . . . . . . . . . . . . . . . . . . . . . . . . . . . . . . . . . . . . . . . . . . . . . . . . . . . . . . . . . . . . . . . . . . . . . . . . . . . . . . . . . . . . . . . . . . . . . . . . . . . . . . . . . . . . . . . . . . . . . . . . . . . . . . . . . . . . . . . . . . . . . . . . . . . . . . . . . . . . . . . . . . . . . . . . . . . . . . . . . . . . . . . . . . . . . . . . . . . . . . . . . . . . . . . . . . . . . . . . . . . . . . . . . . . . . . . . . . . . . . . . . . . . . . . . . . . . . . . . . . . . . . . . . . . . . . . . . . . . . . . . . . . . . . . . . . . . . . . . . . . . . . . . . . . . . . . . . . . . . . . . . . . . . . . . . . . . . . . . . . . . . . . . . . . . . . . . . . . . . . . . . . . . . . . . . . . . . . . . . . . . . . . . . . . . . . . . . . . . . . . . . . . . . . . . . . . . . . . . . . . . . . . . . . . . . . . . . . . . . . . . . . . . . . . . . . . . . . . . . . . . . . . . . . . . . . . . . . . . . . . . . . . . . . . . . . . . . . . . . . . . . . . . . . . . . . . . . . . . . . . . . . . . . . . . . . . . . . . . . . . . . . . . . . . . . . . . . . . . . . . . . . . . . . . . . . . . . . . . . . . . . . . . . . . . . . . . . . . . . . . . . . . . . . . . . . . . . . . . . . . .\n"
     ]
    }
   ],
   "source": [
    "metal_stft = []\n",
    "\n",
    "for file_name in metal_list:\n",
    "    print '.',\n",
    "    temp = stft_array(file_name)\n",
    "    metal_stft.append(temp)"
   ]
  },
  {
   "cell_type": "code",
   "execution_count": 11,
   "metadata": {
    "collapsed": false
   },
   "outputs": [
    {
     "data": {
      "text/plain": [
       "2968"
      ]
     },
     "execution_count": 11,
     "metadata": {},
     "output_type": "execute_result"
    }
   ],
   "source": [
    "len([arr for arr in metal_stft if arr.shape == (1025, 431)])"
   ]
  },
  {
   "cell_type": "code",
   "execution_count": 12,
   "metadata": {
    "collapsed": false
   },
   "outputs": [
    {
     "data": {
      "text/plain": [
       "2970"
      ]
     },
     "execution_count": 12,
     "metadata": {},
     "output_type": "execute_result"
    }
   ],
   "source": [
    "len(metal_stft)"
   ]
  },
  {
   "cell_type": "markdown",
   "metadata": {},
   "source": [
    "#### Now we have 2 arrays that are of different size that we need to drop"
   ]
  },
  {
   "cell_type": "code",
   "execution_count": 13,
   "metadata": {
    "collapsed": true
   },
   "outputs": [],
   "source": [
    "metal_good = [arr for arr in metal_stft if arr.shape == (1025, 431)]"
   ]
  },
  {
   "cell_type": "code",
   "execution_count": 14,
   "metadata": {
    "collapsed": false
   },
   "outputs": [],
   "source": [
    "metal_arr = np.array(metal_good)"
   ]
  },
  {
   "cell_type": "code",
   "execution_count": 17,
   "metadata": {
    "collapsed": false
   },
   "outputs": [
    {
     "name": "stdout",
     "output_type": "stream",
     "text": [
      "\n"
     ]
    }
   ],
   "source": [
    "np.save('metal_arr', metal_arr)"
   ]
  },
  {
   "cell_type": "markdown",
   "metadata": {},
   "source": [
    "#### Oldies"
   ]
  },
  {
   "cell_type": "code",
   "execution_count": null,
   "metadata": {
    "collapsed": false
   },
   "outputs": [
    {
     "name": "stdout",
     "output_type": "stream",
     "text": [
      ". . . . . . . . . . . . . . . . . . . . . . . . . . . . . . . . . . . . . . . . . . . . . . . . . . . . . . . . . . . . . . . . . . . . . . . . . . . . . . . . . . . . . . . . . . . . . . . . . . . . . . . . . . . . . . . . . . . . . . . . . . . . . . . . . . . . . . . . . . . . . . . . . . . . . . . . . . . . . . . . . . . . . . . . . . . . . . . . . . . . . . . . . . . . . . . . . . . . . . . . . . . . . . . . . . . . . . . . . . . . . . . . . . . . . . . . . . . . . . . . . . . . . . . . . . . . . . . . . . . . . . . . . . . . . . . . . . . . . . . . . . . . . . . . . . . . . . . . . . . . . . . . . . . . . . . . . . . . . . . . . . . . . . . . . . . . . . . . . . . . . . . . . . . . . . . . . . . . . . . . . . . . . . . . . . . . . . . . . . . . . . . . . . . . . . . . . . . . . . . . . . . . . . . . . . . . . . . . . . . . . . . . . . . . . . . . . . . . . . . . . . . . . . . . . . . . . . . . . . . . . . . . . . . . . . . . . . . . . . . . . . . . . . . . . . . . . . . . . . . . . . . . . . . . . . . . . . . . . . . . . . . . . . . . . . . . . . . . . . . . . . . . . . . . . . . . . . . . . . . . . . . . . . . . . . . . . . . . . . . . . . . . . . . . . . . . . . . . . . . . . . . . . . . . . . . . . . . . . . . . . . . . . . . . . . . . . . . . . . . . . . . . . . . . . . . . . . . . . . . . . . . . . . . . . . . . . . . . . . . . . . . . . . . . . . . . . . . . . . . . . . . . . . . . . . . . . . . . . . . . . . . . . . . . . . . . . . . . . . . . . . . . . . . . . . . . . . . . . . . . . . . . . . . . . . . . . . . . . . . . . . . . . . . . . . . . . . . . . . . . . . . . . . . . . . . . . . . . . . . . . . . . . . . . . . . . . . . . . . . . . . . . . . . . . . . . . . . . . . . . . . . . . . . . . . . . . . . . . . . . . . . . . . . . . . . . . . . . . . . . . . . . . . . . . . . . . . . . . . . . . . . . . . . . . . . . . . . . . . . . . . . . . . . . . . . . . . . . . . . . . . . . . . . . . . . . . . . . . . . . . . . . . . . . . . . . . . . . . . . . . . . . . . . . . . . . . . . . . . . . . . . . . . . . . . . . . . . . . . . . . . . . . . . . . . . . . . . . . . . . . . . . . . . . . . . . . . . . . . . . . . . . . . . . . . . . . . . . . . . . . . . . . . . . . . . . . . . . . . . . . . . . . . . . . . . . . . . . . . . . . . . . . . . . . . . . . . . . . . . . . . . . . . . . . . . . . . . . . . . . . . . . . . . . . . . . . . . . . . . . . . . . . . . . . . . . . . . . . . . . . . . . . . . . . . . . . . . . . . . . . . . . . . . . . . . . . . . . . . . . . . . . . . . . . . . . . . . . . . . . . . . . . . . . . . . . . . . . . . . . . . . . . . . . . . . . . . . . . . . . . . . . . . . . . . . . . . . . . . . . . . . . . . . . . . . . . . . . . . . . . . . . . . . . . . . . . . . . . . . . . . . . . . . . . . . . . . . . . . . . . . . . . . . . . . . . . . . . . . . . . . . . . . . . . . . . . . . . . . . . . . . . . . . . . . . . . . . . . . . . . . . . . . . . . . . . . . . . . . ."
     ]
    }
   ],
   "source": [
    "oldies_stft = []\n",
    "\n",
    "for file_name in oldies_list:\n",
    "    print '.',\n",
    "    temp = stft_array(file_name)\n",
    "    oldies_stft.append(temp)"
   ]
  },
  {
   "cell_type": "code",
   "execution_count": null,
   "metadata": {
    "collapsed": true
   },
   "outputs": [],
   "source": [
    "oldies_arr = np.array(oldies_stft)\n",
    "np.save('oldies_arr', oldies_arr)"
   ]
  },
  {
   "cell_type": "markdown",
   "metadata": {},
   "source": [
    "#### Reggae"
   ]
  },
  {
   "cell_type": "code",
   "execution_count": 5,
   "metadata": {
    "collapsed": false
   },
   "outputs": [
    {
     "name": "stdout",
     "output_type": "stream",
     "text": [
      ". . . . . . . . . . . . . . . . . . . . . . . . . . . . . . . . . . . . . . . . . . . . . . . . . . . . . . . . . . . . . . . . . . . . . . . . . . . . . . . . . . . . . . . . . . . . . . . . . . . . . . . . . . . . . . . . . . . . . . . . . . . . . . . . . . . . . . . . . . . . . . . . . . . . . . . . . . . . . . . . . . . . . . . . . . . . . . . . . . . . . . . . . . . . . . . . . . . . . . . . . . . . . . . . . . . . . . . . . . . . . . . . . . . . . . . . . . . . . . . . . . . . . . . . . . . . . . . . . . . . . . . . . . . . . . . . . . . . . . . . . . . . . . . . . . . . . . . . . . . . . . . . . . . . . . . . . . . . . . . . . . . . . . . . . . . . . . . . . . . . . . . . . . . . . . . . . . . . . . . . . . . . . . . . . . . . . . . . . . . . . . . . . . . . . . . . . . . . . . . . . . . . . . . . . . . . . . . . . . . . . . . . . . . . . . . . . . . . . . . . . . . . . . . . . . . . . . . . . . . . . . . . . . . . . . . . . . . . . . . . . . . . . . . . . . . . . . . . . . . . . . . . . . . . . . . . . . . . . . . . . . . . . . . . . . . . . . . . . . . . . . . . . . . . . . . . . . . . . . . . . . . . . . . . . . . . . . . . . . . . . . . . . . . . . . . . . . . . . . . . . . . . . . . . . . . . . . . . . . . . . . . . . . . . . . . . . . . . . . . . . . . . . . . . . . . . . . . . . . . . . . . . . . . . . . . . . . . . . . . . . . . . . . . . . . . . . . . . . . . . . . . . . . . . . . . . . . . . . . . . . . . . . . . . . . . . . . . . . . . . . . . . . . . . . . . . . . . . . . . . . . . . . . . . . . . . . . . . . . . . . . . . . . . . . . . . . . . . . . . . . . . . . . . . . . . . . . . . . . . . . . . . . . . . . . . . . . . . . . . . . . . . . . . . . . . . . . . . . . . . . . . . . . . . . . . . . . . . . . . . . . . . . . . . . . . . . . . . . . . . . . . . . . . . . . . . . . . . . . . . . . . . . . . . . . . . . . . . . . . . . . . . . . . . . . . . . . . . . . . . . . . . . . . . . . . . . . . . . . . . . . . . . . . . . . . . . . . . . . . . . . . . . . . . . . . . . . . . . . . . . . . . . . . . . . . . . . . . . . . . . . . . . . . . . . . . . . . . . . . . . . . . . . . . . . . . . . . . . . . . . . . . . . . . . . . . . . . . . . . . . . . . . . . . . . . . . . . . . . . . . . . . . . . . . . . . . . . . . . . . . . . . . . . . . . . . . . . . . . . . . . . . . . . . . . . . . . . . . . . . . . . . . . . . . . . . . . . . . . . . . . . . . . . . . . . . . . . . . . . . . . . . . . . . . . . . . . . . . . . . . . . . . . . . . . . . . . . . . . . . . . . . . . . . . . . . . . . . . . . . . . . . . . . . . . . . . . . . . . . . . . . . . . . . . . . . . . . . . . . . . . . . . . . . . . . . . . . . . . . . . . . . . . . . . . . . . . . . . . . . . . . . . . . . . . . . . . . . . . . . . . . . . . . . . . . . . . . . . . . . . . . . . . . . . . . . . . . . . . . . . . . . . . . . . . . . . . . . . . . . . . . . . . . . . . . . . . . . . . . . . . . . . . . . . . . . . . . . . . . . . . . . . . . . . . . . . . . . . . . . . . . . . . . . . . . . . . . . . . . . . . . . . . . . . . . . . . . . . . . . . . . . . . . . . . . . . . . . . . . . . . . . . . . . . . . . . . . . . . . . . . . . . . . . . . . . . . . . . . . . . . . . . . . . . . . . . . . . . . . . . . . . . . . . . . . . . . . . . . . . . . . . . . . . . . . . . . . . . . . . . . . . . . . . . . . . . . . . . . . . . . . . . . . . . . . . . . . . . . . . . . . . . . . . . . . . . . . . . . . . . . . . . . . . . . . . . . . . . . . . . . . . . . . . . . . . . . . . . . . . . . . . . . . . . . . . . . . . . . . . . . . . . . . . . . . . . . . . . . . . . . . . . . . . . . . . . . . . . . . . . . . . . . . . . . . . . . . . . . . . . . . . . . . . . . . . . . . . . . . . . . . . . . . . . . . . . . . . . . . . . . . . . . . . . . . . . . . . . . . . . . . . . . . . . . . . . . . . . . . . . . . . . . . . . . . . . . . . . . . . . . . . . . . . . . . . . . . . . . . . . . . . . . . . . . . . . . . . . . . . . . . . . . . . . . . . . . . . . . . . . . . . . . . . . . . . . . . . . . . . . . . . . . . . . . . . . . . . . . . . . . . . . . . . . . . . . . . . . . . . . . . . .\n"
     ]
    }
   ],
   "source": [
    "reggae_stft = []\n",
    "\n",
    "for file_name in reggae_list:\n",
    "    print '.',\n",
    "    temp = stft_array(file_name)\n",
    "    reggae_stft.append(temp)"
   ]
  },
  {
   "cell_type": "code",
   "execution_count": 6,
   "metadata": {
    "collapsed": false
   },
   "outputs": [
    {
     "data": {
      "text/plain": [
       "1968"
      ]
     },
     "execution_count": 6,
     "metadata": {},
     "output_type": "execute_result"
    }
   ],
   "source": [
    "len([arr for arr in reggae_stft if arr.shape == (1025, 431)])"
   ]
  },
  {
   "cell_type": "code",
   "execution_count": 7,
   "metadata": {
    "collapsed": false
   },
   "outputs": [
    {
     "data": {
      "text/plain": [
       "2065"
      ]
     },
     "execution_count": 7,
     "metadata": {},
     "output_type": "execute_result"
    }
   ],
   "source": [
    "len(reggae_stft)"
   ]
  },
  {
   "cell_type": "markdown",
   "metadata": {},
   "source": [
    "#### We have 97 arrays that we need to drop here"
   ]
  },
  {
   "cell_type": "code",
   "execution_count": 8,
   "metadata": {
    "collapsed": true
   },
   "outputs": [],
   "source": [
    "reggae_good = [arr for arr in reggae_stft if arr.shape == (1025, 431)]"
   ]
  },
  {
   "cell_type": "code",
   "execution_count": 9,
   "metadata": {
    "collapsed": false
   },
   "outputs": [],
   "source": [
    "reggae_arr = np.array(reggae_good)"
   ]
  },
  {
   "cell_type": "code",
   "execution_count": 10,
   "metadata": {
    "collapsed": false
   },
   "outputs": [],
   "source": [
    "np.save('reggae_arr', reggae_arr)"
   ]
  }
 ],
 "metadata": {
  "kernelspec": {
   "display_name": "Python 2",
   "language": "python",
   "name": "python2"
  },
  "language_info": {
   "codemirror_mode": {
    "name": "ipython",
    "version": 2
   },
   "file_extension": ".py",
   "mimetype": "text/x-python",
   "name": "python",
   "nbconvert_exporter": "python",
   "pygments_lexer": "ipython2",
   "version": "2.7.12"
  }
 },
 "nbformat": 4,
 "nbformat_minor": 2
}

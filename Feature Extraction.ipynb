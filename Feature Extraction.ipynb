{
 "cells": [
  {
   "cell_type": "markdown",
   "metadata": {},
   "source": [
    "## Feature Extraction\n",
    "\n",
    "To extract the useful features from the audio data, we will use Librosa library. It provides several methods to extract different features from the sound clips. I'm going to use these features to perform more EDA.\n",
    "\n",
    "**Chroma:**\n",
    "\n",
    "Chroma is a octave-independent measure of the strength of all possible notes in the western 12 note scale at different points in time, based on the Short-Time Fourier Transform (STFT).\n",
    "\n",
    "** MFCC(Mel-frequency cepstral coefficients):**\n",
    "\n",
    "In sound processing, the mel-frequency cepstrum (MFC) is a representation of the short-term power spectrum of a sound, based on a linear cosine transform of a log power spectrum on a nonlinear mel scale of frequency. Mel-frequency cepstral coefficients (MFCCs) are coefficients that collectively make up an MFC. The difference between the cepstrum and the mel-frequency cepstrum is that in the MFC, the frequency bands are equally spaced on the mel scale, which approximates the human auditory system's response more closely than the linearly-spaced frequency bands used in the normal cepstrum. This frequency warping can allow for better representation of sound, for example, in audio compression.\n",
    "\n",
    "**Melspectrogram:**\n",
    "\n",
    "An object of type MelSpectrogram represents an acoustic time-frequency representation of a sound: the power spectral density P(f, t).It is sampled into a number of points around equally spaced times ti and frequencies fj (on a Mel frequency scale).\n",
    "\n",
    "**Spectral Contrast:** \n",
    "\n",
    "Spectral contrast is defined as the decibel difference between peaks and valleys in the spectrum.\n",
    "\n",
    "**Tonnetz:** \n",
    "\n",
    "Tonnetz is a planar array of pitches along three simplicial axes, corresponding to the three consonant intervals which gives us the tonal centroid features (tonnetz)."
   ]
  },
  {
   "cell_type": "code",
   "execution_count": 1,
   "metadata": {
    "collapsed": true
   },
   "outputs": [],
   "source": [
    "from os import chdir \n",
    "chdir('./code')"
   ]
  },
  {
   "cell_type": "code",
   "execution_count": 190,
   "metadata": {
    "collapsed": true
   },
   "outputs": [],
   "source": [
    "import glob\n",
    "import os\n",
    "import librosa\n",
    "import librosa.display\n",
    "import numpy as np\n",
    "import pandas as pd\n",
    "import seaborn as sns\n",
    "import uuid\n",
    "from scipy.io import wavfile\n",
    "import matplotlib.pyplot as plt\n",
    "from matplotlib.pyplot import specgram\n",
    "%matplotlib inline"
   ]
  },
  {
   "cell_type": "code",
   "execution_count": 205,
   "metadata": {
    "collapsed": false
   },
   "outputs": [],
   "source": [
    "def extract_feature(file_name):\n",
    "    X, sample_rate = librosa.load(file_name)\n",
    "    stft = np.abs(librosa.stft(X))\n",
    "    mfccs = np.mean(librosa.feature.mfcc(y=X, sr=sample_rate, n_mfcc=40).T,axis=0)\n",
    "    chroma = np.mean(librosa.feature.chroma_stft(S=stft, sr=sample_rate).T,axis=0)\n",
    "    mel = np.mean(librosa.feature.melspectrogram(X, sr=sample_rate).T,axis=0)\n",
    "    contrast = np.mean(librosa.feature.spectral_contrast(S=stft, sr=sample_rate).T,axis=0)\n",
    "    tonnetz = np.mean(librosa.feature.tonnetz(y=librosa.effects.harmonic(X),\n",
    "    sr=sample_rate).T,axis=0)\n",
    "    return mfccs, chroma, mel, contrast, tonnetz\n"
   ]
  },
  {
   "cell_type": "markdown",
   "metadata": {},
   "source": [
    "#### Electronic"
   ]
  },
  {
   "cell_type": "code",
   "execution_count": 220,
   "metadata": {
    "collapsed": false
   },
   "outputs": [
    {
     "data": {
      "text/plain": [
       "0    [-506.813791201, 92.2612723998, 68.9546822727,...\n",
       "1    [0.879758862891, 0.853033832539, 0.77136816938...\n",
       "2    [1.01910167794, 130.899919071, 204.556193082, ...\n",
       "3    [28.4984537886, 17.3871729267, 19.3831577096, ...\n",
       "4    [0.00474754987017, 0.018676758667, 0.011141859...\n",
       "dtype: object"
      ]
     },
     "execution_count": 220,
     "metadata": {},
     "output_type": "execute_result"
    }
   ],
   "source": [
    "ft = extract_feature('/Users/ginodefalco/dsi/dsi-workspace/projects2/project-captsone/Snippets/electronic_snippets/01 Angel.1.wav')\n",
    "ft1 = pd.Series(ft)\n",
    "ft1"
   ]
  },
  {
   "cell_type": "code",
   "execution_count": 185,
   "metadata": {
    "collapsed": false
   },
   "outputs": [
    {
     "data": {
      "text/plain": [
       "(array([ 0.        ,  0.        ,  0.        , ..., -0.02998352,\n",
       "        -0.02828979, -0.02650452], dtype=float32), 44100)"
      ]
     },
     "execution_count": 185,
     "metadata": {},
     "output_type": "execute_result"
    }
   ],
   "source": [
    "metal_1 = librosa.load('/Users/ginodefalco/dsi/dsi-workspace/projects2/project-captsone/Snippets/electronic_snippets/01 Angel.1.wav', sr=44100)\n",
    "metal_1"
   ]
  },
  {
   "cell_type": "code",
   "execution_count": 175,
   "metadata": {
    "collapsed": false
   },
   "outputs": [
    {
     "data": {
      "text/plain": [
       "44100"
      ]
     },
     "execution_count": 175,
     "metadata": {},
     "output_type": "execute_result"
    }
   ],
   "source": [
    "metal_1[1]"
   ]
  },
  {
   "cell_type": "code",
   "execution_count": 20,
   "metadata": {
    "collapsed": false
   },
   "outputs": [],
   "source": [
    "ary = np.array((1,2,3))"
   ]
  },
  {
   "cell_type": "code",
   "execution_count": 51,
   "metadata": {
    "collapsed": true
   },
   "outputs": [
    {
     "name": "stdout",
     "output_type": "stream",
     "text": [
      "0\n",
      "441000\n",
      "882000\n",
      "1323000\n",
      "1764000\n",
      "2205000\n",
      "2646000\n",
      "3087000\n",
      "3528000\n",
      "3969000\n",
      "4410000\n",
      "4851000\n",
      "5292000\n",
      "5733000\n",
      "6174000\n",
      "6615000\n",
      "7056000\n",
      "7497000\n",
      "7938000\n",
      "8379000\n",
      "8820000\n",
      "9261000\n",
      "9702000\n",
      "10143000\n",
      "10584000\n",
      "11025000\n",
      "11466000\n",
      "11907000\n",
      "12348000\n",
      "12789000\n",
      "13230000\n",
      "13671000\n",
      "14112000\n",
      "14553000\n",
      "14994000\n",
      "15435000\n",
      "15876000\n",
      "16317000\n",
      "16758000\n",
      "17199000\n"
     ]
    }
   ],
   "source": [
    "for i in range(int(17685300/441000)):\n",
    "    print(441000*i)"
   ]
  },
  {
   "cell_type": "code",
   "execution_count": 120,
   "metadata": {
    "collapsed": false
   },
   "outputs": [
    {
     "ename": "TypeError",
     "evalue": "can only concatenate tuple (not \"str\") to tuple",
     "output_type": "error",
     "traceback": [
      "\u001b[0;31m---------------------------------------------------------------------------\u001b[0m",
      "\u001b[0;31mTypeError\u001b[0m                                 Traceback (most recent call last)",
      "\u001b[0;32m<ipython-input-120-3ca9bc726e55>\u001b[0m in \u001b[0;36m<module>\u001b[0;34m()\u001b[0m\n\u001b[1;32m      1\u001b[0m \u001b[0moutfile_location\u001b[0m \u001b[0;34m=\u001b[0m \u001b[0;34m'metal/'\u001b[0m\u001b[0;34m\u001b[0m\u001b[0m\n\u001b[1;32m      2\u001b[0m \u001b[0msong_file\u001b[0m \u001b[0;34m=\u001b[0m \u001b[0;34m(\u001b[0m\u001b[0;34m'metal_snippets'\u001b[0m \u001b[0;34m+\u001b[0m \u001b[0mstr\u001b[0m\u001b[0;34m(\u001b[0m\u001b[0muuid\u001b[0m\u001b[0;34m.\u001b[0m\u001b[0muuid1\u001b[0m\u001b[0;34m(\u001b[0m\u001b[0;34m)\u001b[0m\u001b[0;34m)\u001b[0m\u001b[0;34m,\u001b[0m \u001b[0mary\u001b[0m\u001b[0;34m)\u001b[0m\u001b[0;34m\u001b[0m\u001b[0m\n\u001b[0;32m----> 3\u001b[0;31m \u001b[0msong_ary\u001b[0m \u001b[0;34m=\u001b[0m \u001b[0mwavfile\u001b[0m\u001b[0;34m.\u001b[0m\u001b[0mread\u001b[0m\u001b[0;34m(\u001b[0m\u001b[0msong_file\u001b[0m \u001b[0;34m+\u001b[0m \u001b[0;34m\"*.wav\"\u001b[0m\u001b[0;34m)\u001b[0m\u001b[0;34m\u001b[0m\u001b[0m\n\u001b[0m\u001b[1;32m      4\u001b[0m \u001b[0mrate\u001b[0m \u001b[0;34m=\u001b[0m \u001b[0;36m441000\u001b[0m\u001b[0;34m\u001b[0m\u001b[0m\n\u001b[1;32m      5\u001b[0m \u001b[0mn_snips\u001b[0m \u001b[0;34m=\u001b[0m \u001b[0mint\u001b[0m\u001b[0;34m(\u001b[0m\u001b[0mlen\u001b[0m\u001b[0;34m(\u001b[0m\u001b[0msong_ary\u001b[0m\u001b[0;34m)\u001b[0m\u001b[0;34m/\u001b[0m\u001b[0mrate\u001b[0m\u001b[0;34m)\u001b[0m\u001b[0;34m\u001b[0m\u001b[0m\n",
      "\u001b[0;31mTypeError\u001b[0m: can only concatenate tuple (not \"str\") to tuple"
     ]
    }
   ],
   "source": [
    "outfile_location = 'metal/'\n",
    "song_file = ('metal_snippets' + str(uuid.uuid1()), ary)\n",
    "song_ary = wavfile.read(song_file + \"*.wav\") \n",
    "rate = 441000\n",
    "n_snips = int(len(song_ary)/rate)\n",
    "snip = song_ary[rate * i : rate * (i + 1)]\n",
    "np.save(outfile_location, ary)"
   ]
  },
  {
   "cell_type": "code",
   "execution_count": 63,
   "metadata": {
    "collapsed": false
   },
   "outputs": [
    {
     "name": "stdout",
     "output_type": "stream",
     "text": [
      "424b5787-0121-11e7-84ec-685b359e28a5.npy\r\n",
      "e614fcf3-0298-11e7-a22c-685b359e28a5.npy\r\n"
     ]
    }
   ],
   "source": [
    "!ls metal/"
   ]
  },
  {
   "cell_type": "code",
   "execution_count": 46,
   "metadata": {
    "collapsed": false
   },
   "outputs": [
    {
     "data": {
      "text/plain": [
       "(44100, array([[0, 0],\n",
       "        [0, 0],\n",
       "        [0, 0],\n",
       "        ..., \n",
       "        [0, 0],\n",
       "        [0, 0],\n",
       "        [0, 0]], dtype=int16))"
      ]
     },
     "execution_count": 46,
     "metadata": {},
     "output_type": "execute_result"
    }
   ],
   "source": [
    "metal_1"
   ]
  },
  {
   "cell_type": "code",
   "execution_count": 23,
   "metadata": {
    "collapsed": false
   },
   "outputs": [
    {
     "data": {
      "text/plain": [
       "(17685300, 2)"
      ]
     },
     "execution_count": 23,
     "metadata": {},
     "output_type": "execute_result"
    }
   ],
   "source": [
    "metal_1[1].shape"
   ]
  },
  {
   "cell_type": "code",
   "execution_count": 24,
   "metadata": {
    "collapsed": false
   },
   "outputs": [
    {
     "data": {
      "text/plain": [
       "6.683786848072562"
      ]
     },
     "execution_count": 24,
     "metadata": {},
     "output_type": "execute_result"
    }
   ],
   "source": [
    "17685300/44100/60"
   ]
  },
  {
   "cell_type": "code",
   "execution_count": 25,
   "metadata": {
    "collapsed": true
   },
   "outputs": [],
   "source": [
    "snip_1 = metal_1[1][:441000]"
   ]
  },
  {
   "cell_type": "code",
   "execution_count": 26,
   "metadata": {
    "collapsed": false
   },
   "outputs": [
    {
     "data": {
      "text/plain": [
       "(441000, 2)"
      ]
     },
     "execution_count": 26,
     "metadata": {},
     "output_type": "execute_result"
    }
   ],
   "source": [
    "snip_1.shape"
   ]
  },
  {
   "cell_type": "code",
   "execution_count": 27,
   "metadata": {
    "collapsed": false
   },
   "outputs": [
    {
     "data": {
      "text/plain": [
       "40.10272108843537"
      ]
     },
     "execution_count": 27,
     "metadata": {},
     "output_type": "execute_result"
    }
   ],
   "source": [
    "17685300/441000"
   ]
  },
  {
   "cell_type": "code",
   "execution_count": 28,
   "metadata": {
    "collapsed": false
   },
   "outputs": [],
   "source": [
    "np.save('metal/'+ str(uuid.uuid1()), ary)"
   ]
  },
  {
   "cell_type": "code",
   "execution_count": 29,
   "metadata": {
    "collapsed": false
   },
   "outputs": [
    {
     "name": "stdout",
     "output_type": "stream",
     "text": [
      "424b5787-0121-11e7-84ec-685b359e28a5.npy\r\n",
      "e614fcf3-0298-11e7-a22c-685b359e28a5.npy\r\n"
     ]
    }
   ],
   "source": [
    "!ls metal"
   ]
  },
  {
   "cell_type": "code",
   "execution_count": null,
   "metadata": {
    "collapsed": false
   },
   "outputs": [],
   "source": [
    "for i in range(int(17685300/441000)):\n",
    "    print(441000*i)"
   ]
  },
  {
   "cell_type": "code",
   "execution_count": 225,
   "metadata": {
    "collapsed": false,
    "scrolled": true
   },
   "outputs": [
    {
     "data": {
      "text/plain": [
       "(array([ -5.06813791e+02,   9.22612724e+01,   6.89546823e+01,\n",
       "          4.64013807e+01,   3.29526182e+01,   2.69508441e+01,\n",
       "          2.26953461e+01,   1.73822190e+01,   1.24291212e+01,\n",
       "          9.64058483e+00,   8.85142980e+00,   8.44186095e+00,\n",
       "          7.41740953e+00,   6.03195748e+00,   5.13750857e+00,\n",
       "          4.91885438e+00,   4.71810313e+00,   3.77632905e+00,\n",
       "          2.22612419e+00,   8.84422958e-01,   3.87394111e-01,\n",
       "          5.24883360e-01,   6.37369986e-01,   2.63539686e-01,\n",
       "         -5.37117725e-01,  -1.44656503e+00,  -2.18095914e+00,\n",
       "         -2.67610046e+00,  -2.97473890e+00,  -3.11442759e+00,\n",
       "         -3.08915721e+00,  -2.98808581e+00,  -2.97891450e+00,\n",
       "         -3.12911318e+00,  -3.25160467e+00,  -3.13201554e+00,\n",
       "         -2.83147231e+00,  -2.65509859e+00,  -2.75072783e+00,\n",
       "         -2.92382549e+00]),\n",
       " array([ 0.87975886,  0.85303383,  0.77136817,  0.58232524,  0.39942823,\n",
       "         0.28148516,  0.28179027,  0.33870035,  0.32706841,  0.36376544,\n",
       "         0.51108234,  0.76093793]),\n",
       " array([  1.01910168e+00,   1.30899919e+02,   2.04556193e+02,\n",
       "          3.69357369e+00,   6.07817240e+00,   2.38868062e+00,\n",
       "          1.54073401e-01,   1.53605882e-01,   4.29302892e-02,\n",
       "          9.20753447e-02,   4.83989579e-02,   1.26002222e-02,\n",
       "          3.50441128e-02,   6.21185692e-03,   9.39061287e-03,\n",
       "          8.22256367e-03,   1.39560658e-03,   5.19720939e-03,\n",
       "          1.47637132e-03,   9.28021832e-04,   1.55657471e-03,\n",
       "          4.27814017e-04,   8.00288080e-04,   4.76640283e-04,\n",
       "          2.13640965e-04,   3.44693790e-04,   1.12747291e-04,\n",
       "          2.10691880e-04,   2.12964785e-04,   1.01177371e-04,\n",
       "          2.04518074e-04,   9.76766171e-05,   1.24309186e-04,\n",
       "          1.63784506e-04,   5.65818464e-05,   8.49097281e-05,\n",
       "          5.72106855e-05,   4.08842835e-05,   4.87195222e-05,\n",
       "          2.67725628e-05,   5.00219418e-05,   3.62686358e-05,\n",
       "          5.05604258e-05,   5.04755985e-05,   3.60152063e-05,\n",
       "          3.45994046e-05,   2.25534346e-05,   2.95569995e-05,\n",
       "          1.96005136e-05,   1.98825791e-05,   1.15427886e-05,\n",
       "          8.96262587e-06,   1.14527151e-05,   1.25013085e-05,\n",
       "          9.91978395e-06,   6.15266732e-06,   6.07557212e-06,\n",
       "          7.02928558e-06,   5.24873754e-06,   3.59270656e-06,\n",
       "          5.28145676e-06,   6.79634476e-06,   5.05574055e-06,\n",
       "          3.02448087e-06,   4.14292657e-06,   3.58099925e-06,\n",
       "          2.24021020e-06,   3.63098067e-06,   3.55063076e-06,\n",
       "          1.69777481e-06,   2.28428253e-06,   2.20090946e-06,\n",
       "          1.45449572e-06,   2.57343363e-06,   1.73502880e-06,\n",
       "          1.55347523e-06,   1.80800566e-06,   1.28548165e-06,\n",
       "          2.23420708e-06,   1.10770648e-06,   1.30792265e-06,\n",
       "          9.49474532e-07,   1.32747133e-06,   9.93465569e-07,\n",
       "          9.91558634e-07,   7.88099560e-07,   1.11955280e-06,\n",
       "          6.99230196e-07,   8.47583418e-07,   6.19054644e-07,\n",
       "          8.03341298e-07,   6.16649019e-07,   5.35488922e-07,\n",
       "          7.21801932e-07,   5.36346733e-07,   5.11281048e-07,\n",
       "          6.13171509e-07,   4.98142553e-07,   4.68892497e-07,\n",
       "          4.68109107e-07,   4.36524505e-07,   4.66852586e-07,\n",
       "          3.88433475e-07,   3.93353706e-07,   3.97137834e-07,\n",
       "          3.75537522e-07,   3.75374846e-07,   3.42058670e-07,\n",
       "          3.54060116e-07,   3.31433138e-07,   3.54493690e-07,\n",
       "          3.31724270e-07,   3.45580332e-07,   3.29990454e-07,\n",
       "          3.31508311e-07,   3.41722547e-07,   3.45616217e-07,\n",
       "          3.72548905e-07,   3.64416317e-07,   3.64952459e-07,\n",
       "          4.09390272e-07,   4.27733380e-07,   4.48022190e-07,\n",
       "          5.44773416e-07,   5.90920337e-07,   8.33461362e-07,\n",
       "          9.86104185e-07,   1.00129335e-06]),\n",
       " array([ 28.49845379,  17.38717293,  19.38315771,  16.45032066,\n",
       "         16.51311647,  16.82498286,  29.06882813]),\n",
       " array([ 0.00474755,  0.01867676,  0.01114186,  0.18191007,  0.00273283,\n",
       "         0.04444158]))"
      ]
     },
     "execution_count": 225,
     "metadata": {},
     "output_type": "execute_result"
    }
   ],
   "source": [
    "feature = extract_feature('/Users/ginodefalco/dsi/dsi-workspace/projects2/project-captsone/Snippets/electronic_snippets/01 Angel.1.wav')\n",
    "feature"
   ]
  },
  {
   "cell_type": "code",
   "execution_count": 187,
   "metadata": {
    "collapsed": true
   },
   "outputs": [],
   "source": [
    "snip_loc = '/Users/ginodefalco/dsi/dsi-workspace/projects2/project-captsone/Snippets/electronic_snippets/01 Angel.1.wav'\n",
    "snip_loc2 = '/Users/ginodefalco/dsi/dsi-workspace/projects2/project-captsone/Snippets/electronic_snippets/01 Angel.3.wav'"
   ]
  },
  {
   "cell_type": "code",
   "execution_count": 188,
   "metadata": {
    "collapsed": false
   },
   "outputs": [],
   "source": [
    "file2 = librosa.load(snip_loc2)"
   ]
  },
  {
   "cell_type": "code",
   "execution_count": 135,
   "metadata": {
    "collapsed": true
   },
   "outputs": [],
   "source": [
    "file = librosa.load(snip_loc)"
   ]
  },
  {
   "cell_type": "code",
   "execution_count": 139,
   "metadata": {
    "collapsed": false,
    "scrolled": true
   },
   "outputs": [
    {
     "data": {
      "text/plain": [
       "(1025, 431)"
      ]
     },
     "execution_count": 139,
     "metadata": {},
     "output_type": "execute_result"
    }
   ],
   "source": [
    "librosa.stft(file[0]).shape"
   ]
  },
  {
   "cell_type": "code",
   "execution_count": 189,
   "metadata": {
    "collapsed": false
   },
   "outputs": [
    {
     "data": {
      "text/plain": [
       "(1025, 431)"
      ]
     },
     "execution_count": 189,
     "metadata": {},
     "output_type": "execute_result"
    }
   ],
   "source": [
    "librosa.stft(file2[0]).shape"
   ]
  },
  {
   "cell_type": "markdown",
   "metadata": {},
   "source": [
    "## Feature Comparison"
   ]
  },
  {
   "cell_type": "code",
   "execution_count": 125,
   "metadata": {
    "collapsed": true
   },
   "outputs": [],
   "source": [
    "def extract_features(file_name):\n",
    "    X, sample_rate = librosa.load(file_name)\n",
    "    stft = np.abs(librosa.stft(X))\n",
    "    mfccs = np.mean(librosa.feature.mfcc(y=X, sr=sample_rate, n_mfcc=40).T,axis=0)\n",
    "    chroma = np.mean(librosa.feature.chroma_stft(S=stft, sr=sample_rate).T,axis=0)\n",
    "    mel = np.mean(librosa.feature.melspectrogram(X, sr=sample_rate).T,axis=0)\n",
    "    contrast = np.mean(librosa.feature.spectral_contrast(S=stft, sr=sample_rate).T,axis=0)\n",
    "    tonnetz = np.mean(librosa.feature.tonnetz(y=librosa.effects.harmonic(X),\n",
    "    sr=sample_rate).T,axis=0)\n",
    "    return zip(mfccs,chroma,mel,contrast,tonnetz)"
   ]
  },
  {
   "cell_type": "markdown",
   "metadata": {},
   "source": [
    "### Electronic"
   ]
  },
  {
   "cell_type": "code",
   "execution_count": 197,
   "metadata": {
    "collapsed": false,
    "scrolled": false
   },
   "outputs": [
    {
     "data": {
      "text/plain": [
       "[<matplotlib.lines.Line2D at 0x11b9772d0>,\n",
       " <matplotlib.lines.Line2D at 0x11b977450>,\n",
       " <matplotlib.lines.Line2D at 0x11b96a990>,\n",
       " <matplotlib.lines.Line2D at 0x11b96a550>,\n",
       " <matplotlib.lines.Line2D at 0x11b96ae90>]"
      ]
     },
     "execution_count": 197,
     "metadata": {},
     "output_type": "execute_result"
    },
    {
     "data": {
      "image/png": "[encoded data removed]",
      "text/plain": [
       "<matplotlib.figure.Figure at 0x11b8264d0>"
      ]
     },
     "metadata": {},
     "output_type": "display_data"
    }
   ],
   "source": [
    "elc_ft = extract_features('/Users/ginodefalco/dsi/dsi-workspace/projects2/project-captsone/Snippets/electronic_snippets/01 Angel.1.wav')\n",
    "plt.plot(elc_ft)"
   ]
  },
  {
   "cell_type": "markdown",
   "metadata": {},
   "source": [
    "### Jazz"
   ]
  },
  {
   "cell_type": "code",
   "execution_count": 192,
   "metadata": {
    "collapsed": false,
    "scrolled": false
   },
   "outputs": [
    {
     "data": {
      "text/plain": [
       "[<matplotlib.lines.Line2D at 0x120fa3b10>,\n",
       " <matplotlib.lines.Line2D at 0x120fa3d10>,\n",
       " <matplotlib.lines.Line2D at 0x120fa3e50>,\n",
       " <matplotlib.lines.Line2D at 0x120fa3f90>,\n",
       " <matplotlib.lines.Line2D at 0x120fb1110>]"
      ]
     },
     "execution_count": 192,
     "metadata": {},
     "output_type": "execute_result"
    },
    {
     "data": {
      "image/png": "[encoded data removed]",
      "text/plain": [
       "<matplotlib.figure.Figure at 0x1212ec650>"
      ]
     },
     "metadata": {},
     "output_type": "display_data"
    }
   ],
   "source": [
    "jazz_ft = extract_features('/Users/ginodefalco/dsi/dsi-workspace/projects2/project-captsone/Snippets/jazz_snippets/Kind Of Blue.19.wav')\n",
    "plt.plot(jazz_ft)"
   ]
  },
  {
   "cell_type": "markdown",
   "metadata": {},
   "source": [
    "### Metal"
   ]
  },
  {
   "cell_type": "code",
   "execution_count": 193,
   "metadata": {
    "collapsed": false
   },
   "outputs": [
    {
     "data": {
      "text/plain": [
       "[<matplotlib.lines.Line2D at 0x120c32d90>,\n",
       " <matplotlib.lines.Line2D at 0x120c32f90>,\n",
       " <matplotlib.lines.Line2D at 0x120c43110>,\n",
       " <matplotlib.lines.Line2D at 0x120c43250>,\n",
       " <matplotlib.lines.Line2D at 0x120c43390>]"
      ]
     },
     "execution_count": 193,
     "metadata": {},
     "output_type": "execute_result"
    },
    {
     "data": {
      "image/png": "[encoded data removed]",
      "text/plain": [
       "<matplotlib.figure.Figure at 0x120924cd0>"
      ]
     },
     "metadata": {},
     "output_type": "display_data"
    }
   ],
   "source": [
    "metal_ft = extract_features('/Users/ginodefalco/dsi/dsi-workspace/projects2/project-captsone/Snippets/metal_snippets/32 Damage, Inc_1.43.wav')\n",
    "plt.plot(metal_ft)                   "
   ]
  },
  {
   "cell_type": "markdown",
   "metadata": {},
   "source": [
    "### Oldies"
   ]
  },
  {
   "cell_type": "code",
   "execution_count": 194,
   "metadata": {
    "collapsed": false,
    "scrolled": false
   },
   "outputs": [
    {
     "data": {
      "text/plain": [
       "[<matplotlib.lines.Line2D at 0x121005050>,\n",
       " <matplotlib.lines.Line2D at 0x121005250>,\n",
       " <matplotlib.lines.Line2D at 0x121005390>,\n",
       " <matplotlib.lines.Line2D at 0x1210054d0>,\n",
       " <matplotlib.lines.Line2D at 0x121005610>]"
      ]
     },
     "execution_count": 194,
     "metadata": {},
     "output_type": "execute_result"
    },
    {
     "data": {
      "image/png": "[encoded data removed]",
      "text/plain": [
       "<matplotlib.figure.Figure at 0x11c00da50>"
      ]
     },
     "metadata": {},
     "output_type": "display_data"
    }
   ],
   "source": [
    "oldies_ft = extract_features('/Users/ginodefalco/dsi/dsi-workspace/projects2/project-captsone/Snippets/oldies_snippets/04 Little Deuce Coupe.11.wav')\n",
    "plt.plot(oldies_ft)      "
   ]
  },
  {
   "cell_type": "markdown",
   "metadata": {},
   "source": [
    "### Reggae"
   ]
  },
  {
   "cell_type": "code",
   "execution_count": 195,
   "metadata": {
    "collapsed": false
   },
   "outputs": [
    {
     "data": {
      "text/plain": [
       "[<matplotlib.lines.Line2D at 0x1212322d0>,\n",
       " <matplotlib.lines.Line2D at 0x1212324d0>,\n",
       " <matplotlib.lines.Line2D at 0x121232610>,\n",
       " <matplotlib.lines.Line2D at 0x121232750>,\n",
       " <matplotlib.lines.Line2D at 0x121232890>]"
      ]
     },
     "execution_count": 195,
     "metadata": {},
     "output_type": "execute_result"
    },
    {
     "data": {
      "image/png": "[encoded data removed]",
      "text/plain": [
       "<matplotlib.figure.Figure at 0x120cb7c10>"
      ]
     },
     "metadata": {},
     "output_type": "display_data"
    }
   ],
   "source": [
    "reggae_ft = extract_features('/Users/ginodefalco/dsi/dsi-workspace/projects2/project-captsone/Snippets/reggae_snippets/01 Easy Skanking.19.wav')\n",
    "plt.plot(reggae_ft)     "
   ]
  },
  {
   "cell_type": "code",
   "execution_count": null,
   "metadata": {
    "collapsed": true
   },
   "outputs": [],
   "source": [
    "ft = pd.concat()\n",
    "result = pd.concat(frames, keys=['x', 'y', 'z'])"
   ]
  }
 ],
 "metadata": {
  "anaconda-cloud": {},
  "kernelspec": {
   "display_name": "Python [conda root]",
   "language": "python",
   "name": "conda-root-py"
  },
  "language_info": {
   "codemirror_mode": {
    "name": "ipython",
    "version": 2
   },
   "file_extension": ".py",
   "mimetype": "text/x-python",
   "name": "python",
   "nbconvert_exporter": "python",
   "pygments_lexer": "ipython2",
   "version": "2.7.12"
  }
 },
 "nbformat": 4,
 "nbformat_minor": 1
}
